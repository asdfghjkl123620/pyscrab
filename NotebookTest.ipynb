{
 "cells": [
  {
   "cell_type": "code",
   "execution_count": 1,
   "metadata": {},
   "outputs": [
    {
     "name": "stdout",
     "output_type": "stream",
     "text": [
      "hello World\n"
     ]
    }
   ],
   "source": [
    "print(\"hello World\")"
   ]
  },
  {
   "cell_type": "code",
   "execution_count": 3,
   "metadata": {},
   "outputs": [
    {
     "name": "stdout",
     "output_type": "stream",
     "text": [
      "Collecting selenium\n",
      "  Using cached selenium-3.141.0-py2.py3-none-any.whl (904 kB)\n",
      "Requirement already satisfied: beautifulsoup4 in c:\\users\\user\\anaconda3\\lib\\site-packages (4.9.1)\n",
      "Requirement already satisfied: requests in c:\\users\\user\\anaconda3\\lib\\site-packages (2.24.0)\n",
      "Collecting pandas_datareader\n",
      "  Using cached pandas_datareader-0.9.0-py3-none-any.whl (107 kB)\n",
      "Collecting mpl_finance\n",
      "  Downloading mpl_finance-0.10.1-py3-none-any.whl (8.4 kB)\n",
      "Requirement already satisfied: urllib3 in c:\\users\\user\\anaconda3\\lib\\site-packages (from selenium) (1.25.9)\n",
      "Requirement already satisfied: soupsieve>1.2 in c:\\users\\user\\anaconda3\\lib\\site-packages (from beautifulsoup4) (2.0.1)\n",
      "Requirement already satisfied: certifi>=2017.4.17 in c:\\users\\user\\anaconda3\\lib\\site-packages (from requests) (2020.6.20)\n",
      "Requirement already satisfied: idna<3,>=2.5 in c:\\users\\user\\anaconda3\\lib\\site-packages (from requests) (2.10)\n",
      "Requirement already satisfied: chardet<4,>=3.0.2 in c:\\users\\user\\anaconda3\\lib\\site-packages (from requests) (3.0.4)\n",
      "Requirement already satisfied: lxml in c:\\users\\user\\anaconda3\\lib\\site-packages (from pandas_datareader) (4.5.2)\n",
      "Requirement already satisfied: pandas>=0.23 in c:\\users\\user\\anaconda3\\lib\\site-packages (from pandas_datareader) (1.0.5)\n",
      "Requirement already satisfied: matplotlib in c:\\users\\user\\anaconda3\\lib\\site-packages (from mpl_finance) (3.2.2)\n",
      "Requirement already satisfied: python-dateutil>=2.6.1 in c:\\users\\user\\anaconda3\\lib\\site-packages (from pandas>=0.23->pandas_datareader) (2.8.1)\n",
      "Requirement already satisfied: numpy>=1.13.3 in c:\\users\\user\\anaconda3\\lib\\site-packages (from pandas>=0.23->pandas_datareader) (1.18.5)\n",
      "Requirement already satisfied: pytz>=2017.2 in c:\\users\\user\\anaconda3\\lib\\site-packages (from pandas>=0.23->pandas_datareader) (2020.1)\n",
      "Requirement already satisfied: cycler>=0.10 in c:\\users\\user\\anaconda3\\lib\\site-packages (from matplotlib->mpl_finance) (0.10.0)\n",
      "Requirement already satisfied: pyparsing!=2.0.4,!=2.1.2,!=2.1.6,>=2.0.1 in c:\\users\\user\\anaconda3\\lib\\site-packages (from matplotlib->mpl_finance) (2.4.7)\n",
      "Requirement already satisfied: kiwisolver>=1.0.1 in c:\\users\\user\\anaconda3\\lib\\site-packages (from matplotlib->mpl_finance) (1.2.0)\n",
      "Requirement already satisfied: six>=1.5 in c:\\users\\user\\anaconda3\\lib\\site-packages (from python-dateutil>=2.6.1->pandas>=0.23->pandas_datareader) (1.15.0)\n",
      "Installing collected packages: selenium, pandas-datareader, mpl-finance\n",
      "Successfully installed mpl-finance-0.10.1 pandas-datareader-0.9.0 selenium-3.141.0\n"
     ]
    }
   ],
   "source": [
    "!pip install selenium beautifulsoup4 requests pandas_datareader mpl_finance"
   ]
  },
  {
   "cell_type": "code",
   "execution_count": 4,
   "metadata": {},
   "outputs": [],
   "source": [
    "ids =[1, 2, 4]"
   ]
  },
  {
   "cell_type": "code",
   "execution_count": 6,
   "metadata": {},
   "outputs": [
    {
     "name": "stdout",
     "output_type": "stream",
     "text": [
      "list: [1, 2, 4]\n"
     ]
    }
   ],
   "source": [
    "print(\"list: {}\".format(ids))"
   ]
  },
  {
   "cell_type": "code",
   "execution_count": 8,
   "metadata": {},
   "outputs": [],
   "source": [
    "ids.append(4)"
   ]
  },
  {
   "cell_type": "code",
   "execution_count": 9,
   "metadata": {},
   "outputs": [
    {
     "name": "stdout",
     "output_type": "stream",
     "text": [
      "list: [1, 2, 4, 4, 4]\n"
     ]
    }
   ],
   "source": [
    "print(\"list: {}\".format(ids))"
   ]
  },
  {
   "cell_type": "code",
   "execution_count": 10,
   "metadata": {},
   "outputs": [
    {
     "name": "stdout",
     "output_type": "stream",
     "text": [
      "新增 4\n",
      "目前 list 內容: [1, 2, 4, 4, 4]\n"
     ]
    }
   ],
   "source": [
    "print(\"新增 {}\".format(4))\n",
    "print(\"目前 list 內容: {}\".format(ids))"
   ]
  },
  {
   "cell_type": "code",
   "execution_count": 11,
   "metadata": {},
   "outputs": [
    {
     "data": {
      "text/plain": [
       "2"
      ]
     },
     "execution_count": 11,
     "metadata": {},
     "output_type": "execute_result"
    }
   ],
   "source": [
    "ids.pop(1)"
   ]
  },
  {
   "cell_type": "code",
   "execution_count": 12,
   "metadata": {},
   "outputs": [],
   "source": [
    "dict01 = {\"蘋果\": 100, \"橘子\": 20, \"水梨\": 50}"
   ]
  },
  {
   "cell_type": "code",
   "execution_count": 13,
   "metadata": {},
   "outputs": [
    {
     "name": "stdout",
     "output_type": "stream",
     "text": [
      "100\n"
     ]
    }
   ],
   "source": [
    "print(dict01[\"蘋果\"])"
   ]
  },
  {
   "cell_type": "code",
   "execution_count": 14,
   "metadata": {},
   "outputs": [
    {
     "ename": "TypeError",
     "evalue": "'type' object does not support item deletion",
     "output_type": "error",
     "traceback": [
      "\u001b[1;31m---------------------------------------------------------------------------\u001b[0m",
      "\u001b[1;31mTypeError\u001b[0m                                 Traceback (most recent call last)",
      "\u001b[1;32m<ipython-input-14-0d85be68016e>\u001b[0m in \u001b[0;36m<module>\u001b[1;34m\u001b[0m\n\u001b[1;32m----> 1\u001b[1;33m \u001b[1;32mdel\u001b[0m \u001b[0mdict\u001b[0m\u001b[1;33m[\u001b[0m\u001b[1;34m\"水梨\"\u001b[0m\u001b[1;33m]\u001b[0m\u001b[1;33m\u001b[0m\u001b[1;33m\u001b[0m\u001b[0m\n\u001b[0m",
      "\u001b[1;31mTypeError\u001b[0m: 'type' object does not support item deletion"
     ]
    }
   ],
   "source": [
    "del dict[\"水梨\"]"
   ]
  },
  {
   "cell_type": "code",
   "execution_count": 15,
   "metadata": {},
   "outputs": [],
   "source": [
    "del dict01[\"水梨\"]"
   ]
  },
  {
   "cell_type": "code",
   "execution_count": 17,
   "metadata": {},
   "outputs": [
    {
     "name": "stdout",
     "output_type": "stream",
     "text": [
      "蘋果的價格是 100元\n",
      "橘子的價格是 20元\n"
     ]
    }
   ],
   "source": [
    "list_keys = list(dict01.keys())\n",
    "list_values = list(dict01.values())\n",
    "for i in range(len(list_keys)):\n",
    "    print(\"%s的價格是 %d元\"%( list_keys[i], list_values[i]))"
   ]
  },
  {
   "cell_type": "code",
   "execution_count": 18,
   "metadata": {},
   "outputs": [],
   "source": [
    "from urllib import parse"
   ]
  },
  {
   "cell_type": "code",
   "execution_count": 19,
   "metadata": {},
   "outputs": [
    {
     "name": "stdout",
     "output_type": "stream",
     "text": [
      "分析urls成為components:\n",
      "ParseResult(scheme='https', netloc='docs.python.org', path='/3.7/search.html', params='', query='q=parse&check_keywords=yes&area=default', fragment='')\n"
     ]
    }
   ],
   "source": [
    "url = 'https://docs.python.org/3.7/search.html?q=parse&check_keywords=yes&area=default'\n",
    "parseResult = parse.urlparse(url)\n",
    "print(\"分析urls成為components:\\n{}\".format(parseResult))"
   ]
  },
  {
   "cell_type": "code",
   "execution_count": 20,
   "metadata": {},
   "outputs": [
    {
     "name": "stdout",
     "output_type": "stream",
     "text": [
      "https\n"
     ]
    }
   ],
   "source": [
    "print(parseResult.scheme)"
   ]
  },
  {
   "cell_type": "code",
   "execution_count": 21,
   "metadata": {},
   "outputs": [],
   "source": [
    "url_string = 'https://www.104.com.tw/jobs/search/?'\n",
    "query = {\n",
    "    \"ro\":1,\n",
    "    \"kwop\": 7,\n",
    "    \"keyword\": \"python\",\n",
    "    \"order\": 13,\n",
    "    \"asc\": 0,\n",
    "    \"page\": 1,\n",
    "    \"mode\": \"s\",\n",
    "    \"jobsource\": \"2018indexpoc\"\n",
    "}"
   ]
  },
  {
   "cell_type": "code",
   "execution_count": 22,
   "metadata": {},
   "outputs": [
    {
     "name": "stdout",
     "output_type": "stream",
     "text": [
      "https://www.104.com.tw/jobs/search/?ro=1&kwop=7&keyword=python&order=13&asc=0&page=1&mode=s&jobsource=2018indexpoc\n"
     ]
    }
   ],
   "source": [
    "result = url_string + parse.urlencode(query)\n",
    "print(result)"
   ]
  },
  {
   "cell_type": "code",
   "execution_count": 24,
   "metadata": {},
   "outputs": [
    {
     "name": "stdout",
     "output_type": "stream",
     "text": [
      "a%3D1%26b%3D2\n"
     ]
    }
   ],
   "source": [
    "from urllib import parse\n",
    "\n",
    "result01 = parse.quote('a=1&b=2')\n",
    "print(result01)"
   ]
  },
  {
   "cell_type": "code",
   "execution_count": 25,
   "metadata": {},
   "outputs": [
    {
     "name": "stdout",
     "output_type": "stream",
     "text": [
      "a%253D1%2526b%253D2\n"
     ]
    }
   ],
   "source": [
    "result02 = parse.quote('a%3D1%26b%3D2')\n",
    "print(result02)"
   ]
  },
  {
   "cell_type": "code",
   "execution_count": 26,
   "metadata": {},
   "outputs": [
    {
     "name": "stdout",
     "output_type": "stream",
     "text": [
      "a=1&b=2\n"
     ]
    }
   ],
   "source": [
    "result02 = parse.unquote('a%3D1%26b%3D2')\n",
    "print(result02)"
   ]
  },
  {
   "cell_type": "code",
   "execution_count": 27,
   "metadata": {},
   "outputs": [
    {
     "name": "stdout",
     "output_type": "stream",
     "text": [
      "20\n",
      "1.220000\n",
      "1.3\n",
      "my name is David\n"
     ]
    }
   ],
   "source": [
    "print('%d'%20)#格式化整數\n",
    "print('%f' % 1.22)#預設保留六位小數\n",
    "print('%.1f' % 1.27)#取一位小數\n",
    "print('my name is %s' % 'David') #格式化字串"
   ]
  },
  {
   "cell_type": "code",
   "execution_count": 28,
   "metadata": {},
   "outputs": [
    {
     "name": "stdout",
     "output_type": "stream",
     "text": [
      "my name is Garen and my age is 12\n"
     ]
    }
   ],
   "source": [
    "name = \"Garen\"\n",
    "age = \"12\"\n",
    "str012 = \"my name is {} and my age is {}\".format(name, age)\n",
    "print(str012)"
   ]
  },
  {
   "cell_type": "code",
   "execution_count": 29,
   "metadata": {},
   "outputs": [
    {
     "name": "stdout",
     "output_type": "stream",
     "text": [
      "my name is Garen and my age is 12\n"
     ]
    }
   ],
   "source": [
    "name = \"Garen\"\n",
    "age = \"12\"\n",
    "str013 = f\"my name is {name} and my age is {age}\"\n",
    "print(str013)"
   ]
  },
  {
   "cell_type": "code",
   "execution_count": 30,
   "metadata": {},
   "outputs": [
    {
     "name": "stdout",
     "output_type": "stream",
     "text": [
      "gasd like javascript\n"
     ]
    }
   ],
   "source": [
    "from string import Template\n",
    "tpl = Template('$who like $what')\n",
    "print(tpl.substitute(who='gasd',what='javascript'))"
   ]
  },
  {
   "cell_type": "code",
   "execution_count": 31,
   "metadata": {},
   "outputs": [
    {
     "name": "stdout",
     "output_type": "stream",
     "text": [
      "<re.Match object; span=(0, 10), match='A123456789'>\n"
     ]
    }
   ],
   "source": [
    "import re\n",
    "regex01 = r'[a-zA-Z](1|2)\\d{8}'\n",
    "string01 = \"A123456789, S299888777\"\n",
    "match01 = re.search(regex01, string01)\n",
    "print(match01)"
   ]
  },
  {
   "cell_type": "code",
   "execution_count": 32,
   "metadata": {},
   "outputs": [
    {
     "name": "stdout",
     "output_type": "stream",
     "text": [
      "['0911111111', '0922222222', '0933333333']\n",
      "0911111111\n",
      "0933333333\n"
     ]
    }
   ],
   "source": [
    "regex02 = r'[0-9]+'\n",
    "string02 = \"0911111111, 0922222222, 0933333333\"\n",
    "match02 = re.findall(regex02, string02)\n",
    "print(match02)\n",
    "print(match02[0])\n",
    "print(match02[2])"
   ]
  },
  {
   "cell_type": "code",
   "execution_count": 34,
   "metadata": {},
   "outputs": [
    {
     "name": "stdout",
     "output_type": "stream",
     "text": [
      "<re.Match object; span=(0, 9), match='2020/7/23'>\n",
      "2020/7/23\n",
      "23\n"
     ]
    }
   ],
   "source": [
    "regex03 = r'2[0-9]{3}\\/[0-1]?[0-9]{1}\\/([1-3]?[0-9])'\n",
    "string03 = \"2020/7/23\"\n",
    "match03 = re.match(regex03, string03)\n",
    "print(match03)\n",
    "print(match03[0])\n",
    "print(match03[1])"
   ]
  },
  {
   "cell_type": "code",
   "execution_count": 41,
   "metadata": {},
   "outputs": [
    {
     "name": "stdout",
     "output_type": "stream",
     "text": [
      "1992, 2019\n",
      "1992\n",
      "2019\n"
     ]
    }
   ],
   "source": [
    "#輸出完整比對到的字串\n",
    "# group\n",
    "regex04 = r'(1[0-9]{3}),?\\s(2[0-9]{3})'\n",
    "string04 = \"1992, 2019, 2020\"\n",
    "match04 = re.match(regex04, string04)\n",
    "'''\n",
    "說明\n",
    "group() 會輸出完整比對到的字串\n",
    "group(n) 輸出第n個比對到的內容\n",
    "'''\n",
    "print(match04.group())\n",
    "print(match04.group(1))\n",
    "print(match04.group(2))"
   ]
  },
  {
   "cell_type": "code",
   "execution_count": 42,
   "metadata": {},
   "outputs": [
    {
     "name": "stdout",
     "output_type": "stream",
     "text": [
      "['One', 'Two', 'Three', 'Four', '']\n"
     ]
    }
   ],
   "source": [
    "#split\n",
    "regex05 = r'\\d'\n",
    "string05 = \"One1Two2Three3Four4\"\n",
    "match05 = re.split(regex05, string05)\n",
    "'''\n",
    "說明\n",
    "re.split 類似 string.split('separator')，\n",
    "只是用正規表達式來作為 separator，\n",
    "並回傳 list\n",
    "'''\n",
    "print(match05)"
   ]
  },
  {
   "cell_type": "code",
   "execution_count": 43,
   "metadata": {},
   "outputs": [
    {
     "name": "stdout",
     "output_type": "stream",
     "text": [
      "abcd{111:333, 444:555}cdefg123456\n",
      "111:333, 444:555\n",
      "123456\n",
      "111:333, 444:555\n",
      "123456\n",
      "111:333, 444:555\n",
      "123456\n"
     ]
    }
   ],
   "source": [
    "import re\n",
    "#name group\n",
    "regex01 = r'[a-zA-Z]+\\{(?P<value>.*?)\\}[a-zA-Z]+(?P<number>[0-9]+)'\n",
    "string01 = \"abcd{111:333, 444:555}cdefg123456\"\n",
    "match01 = re.match(regex01, string01)\n",
    "'''\n",
    "說明\n",
    "除了 .group(n) 以外，\n",
    "還可以做用 name，\n",
    "作為 key 來存取 group()\n",
    "'''\n",
    "print(match01.group())\n",
    "print(match01.group('value'))\n",
    "print(match01.group('number'))\n",
    "print(match01['value'])\n",
    "print(match01['number'])\n",
    "print(match01[1])\n",
    "print(match01[2])"
   ]
  },
  {
   "cell_type": "code",
   "execution_count": 46,
   "metadata": {},
   "outputs": [
    {
     "name": "stdout",
     "output_type": "stream",
     "text": [
      "asdfghjkl123620@gmail.com\n",
      "asdfghjkl123620\n",
      "gmail.com\n"
     ]
    }
   ],
   "source": [
    "#e-mail\n",
    "'''\n",
    "說明\n",
    "透過 named group 取得 username、domain name\n",
    "'''\n",
    "regex02 = r'(?P<username>[a-zA-Z0-9]+)@(?P<domain_name>[0-9A-Za-z]+\\.[0-9A-Za-z]+)'\n",
    "string02 = \"asdfghjkl123620@gmail.com\"\n",
    "match02 = re.match(regex02, string02)\n",
    "print(match02.group())\n",
    "print(match02.group('username'))\n",
    "print(match02.group('domain_name'))"
   ]
  },
  {
   "cell_type": "code",
   "execution_count": 50,
   "metadata": {},
   "outputs": [
    {
     "name": "stdout",
     "output_type": "stream",
     "text": [
      "https://www.iiiedu.org.tw/location/\n",
      "www.iiiedu.org.tw\n",
      "location\n"
     ]
    }
   ],
   "source": [
    "#url\n",
    "regex03 = r'https?:\\/\\/(?P<domain_name>[a-z.]+)\\/(?P<path>[a-z]+)\\/'\n",
    "string03 = \"https://www.iiiedu.org.tw/location/\"\n",
    "match03 = re.match(regex03, string03)\n",
    "print(match03.group())\n",
    "print(match03.group('domain_name'))\n",
    "print(match03.group('path'))"
   ]
  },
  {
   "cell_type": "code",
   "execution_count": 51,
   "metadata": {},
   "outputs": [
    {
     "name": "stdout",
     "output_type": "stream",
     "text": [
      "200\n",
      "ok\n",
      "{\n",
      "  \"args\": {}, \n",
      "  \"headers\": {\n",
      "    \"Accept\": \"*/*\", \n",
      "    \"Accept-Encoding\": \"gzip, deflate\", \n",
      "    \"Host\": \"httpbin.org\", \n",
      "    \"User-Agent\": \"python-requests/2.24.0\", \n",
      "    \"X-Amzn-Trace-Id\": \"Root=1-5f16a105-a342a6302cc924d48bc8e3a0\"\n",
      "  }, \n",
      "  \"origin\": \"203.73.112.216\", \n",
      "  \"url\": \"https://httpbin.org/get\"\n",
      "}\n",
      "\n"
     ]
    }
   ],
   "source": [
    "import requests\n",
    "r = requests.get('https://httpbin.org/get')\n",
    "print(r.status_code)\n",
    "\n",
    "if r.status_code == requests.codes.ok:\n",
    "    print(\"ok\")\n",
    "    \n",
    "#輸出網頁html原始碼\n",
    "print(r.text)"
   ]
  },
  {
   "cell_type": "code",
   "execution_count": 52,
   "metadata": {},
   "outputs": [
    {
     "name": "stdout",
     "output_type": "stream",
     "text": [
      "https://httpbin.org/get?key1=value1&key2=value2\n",
      "{\n",
      "  \"args\": {\n",
      "    \"key1\": \"value1\", \n",
      "    \"key2\": \"value2\"\n",
      "  }, \n",
      "  \"headers\": {\n",
      "    \"Accept\": \"*/*\", \n",
      "    \"Accept-Encoding\": \"gzip, deflate\", \n",
      "    \"Host\": \"httpbin.org\", \n",
      "    \"User-Agent\": \"python-requests/2.24.0\", \n",
      "    \"X-Amzn-Trace-Id\": \"Root=1-5f16a16f-a81ff7e605b17e1fb9a7925c\"\n",
      "  }, \n",
      "  \"origin\": \"203.73.112.216\", \n",
      "  \"url\": \"https://httpbin.org/get?key1=value1&key2=value2\"\n",
      "}\n",
      "\n"
     ]
    }
   ],
   "source": [
    "my_params={'key1':'value1','key2':'value2'}\n",
    "r = requests.get('https://httpbin.org/get', params = my_params)\n",
    "# 觀察 URL\n",
    "print(r.url)\n",
    "# 輸出網頁 HTML 原始碼\n",
    "print(r.text)"
   ]
  },
  {
   "cell_type": "code",
   "execution_count": 56,
   "metadata": {},
   "outputs": [
    {
     "name": "stdout",
     "output_type": "stream",
     "text": [
      "{\n",
      "  \"args\": {}, \n",
      "  \"data\": \"\", \n",
      "  \"files\": {}, \n",
      "  \"form\": {\n",
      "    \"key1\": \"value1\", \n",
      "    \"key2\": \"value2\"\n",
      "  }, \n",
      "  \"headers\": {\n",
      "    \"Accept\": \"*/*\", \n",
      "    \"Accept-Encoding\": \"gzip, deflate\", \n",
      "    \"Content-Length\": \"23\", \n",
      "    \"Content-Type\": \"application/x-www-form-urlencoded\", \n",
      "    \"Host\": \"httpbin.org\", \n",
      "    \"User-Agent\": \"python-requests/2.24.0\", \n",
      "    \"X-Amzn-Trace-Id\": \"Root=1-5f16a266-e3c73b94b66e095c335de0a4\"\n",
      "  }, \n",
      "  \"json\": null, \n",
      "  \"origin\": \"203.73.112.216\", \n",
      "  \"url\": \"https://httpbin.org/post\"\n",
      "}\n",
      "\n"
     ]
    }
   ],
   "source": [
    "my_data = {'key1':'value1','key2':'value2'}\n",
    "# 將資料加入 POST 請求中\n",
    "r = requests.post('https://httpbin.org/post', data = my_data)\n",
    "# 輸出網頁 HTML 原始碼\n",
    "print(r.text)"
   ]
  },
  {
   "cell_type": "code",
   "execution_count": 60,
   "metadata": {},
   "outputs": [
    {
     "name": "stdout",
     "output_type": "stream",
     "text": [
      "65cef78dd184efcd04e06e9460b767ce3acbc61f3566b8991e3461c9868f7109:612b6400-cb2a-11ea-a62d-0b1dc733e267\n"
     ]
    }
   ],
   "source": [
    "# 含有 cookie 的內容\n",
    "r = requests.get(\"https://www.wine-searcher.com/\")\n",
    "# 印出其中一個 cookie\n",
    "print(r.cookies['_pxhd'])"
   ]
  },
  {
   "cell_type": "code",
   "execution_count": 1,
   "metadata": {},
   "outputs": [
    {
     "name": "stdout",
     "output_type": "stream",
     "text": [
      "{\n",
      "  \"args\": {}, \n",
      "  \"headers\": {\n",
      "    \"Accept\": \"*/*\", \n",
      "    \"Accept-Encoding\": \"gzip, deflate\", \n",
      "    \"Host\": \"httpbin.org\", \n",
      "    \"User-Agent\": \"my-request/1.0.0\", \n",
      "    \"X-Amzn-Trace-Id\": \"Root=1-5f178c33-eee84db1cf0d211970b5a018\"\n",
      "  }, \n",
      "  \"origin\": \"203.73.112.216\", \n",
      "  \"url\": \"https://httpbin.org/get\"\n",
      "}\n",
      "\n"
     ]
    }
   ],
   "source": [
    "import requests\n",
    "#自訂headers cookies session\n",
    "my_headers = {'user-agent':'my-request/1.0.0'}\n",
    "#將自訂標投加入get請求\n",
    "r = requests.get('https://httpbin.org/get', headers = my_headers)\n",
    "\n",
    "#輸出網頁原始碼\n",
    "\n",
    "print(r.text)"
   ]
  },
  {
   "cell_type": "code",
   "execution_count": 3,
   "metadata": {},
   "outputs": [
    {
     "name": "stdout",
     "output_type": "stream",
     "text": [
      "{\n",
      "  \"args\": {}, \n",
      "  \"headers\": {\n",
      "    \"Accept\": \"*/*\", \n",
      "    \"Accept-Encoding\": \"gzip, deflate\", \n",
      "    \"Cookie\": \"first_cookie=hello; second_cooke=world\", \n",
      "    \"Host\": \"httpbin.org\", \n",
      "    \"User-Agent\": \"python-requests/2.24.0\", \n",
      "    \"X-Amzn-Trace-Id\": \"Root=1-5f178d14-110b38cdf8957f3404badea5\"\n",
      "  }, \n",
      "  \"origin\": \"203.73.112.216\", \n",
      "  \"url\": \"https://httpbin.org/get\"\n",
      "}\n",
      "\n"
     ]
    }
   ],
   "source": [
    "jar = requests.cookies.RequestsCookieJar()\n",
    "jar.set(\"first_cookie\", \"hello\", domain=\"httpbin.org\")\n",
    "jar.set(\"second_cooke\", \"world\", domain=\"httpbin.org\")\n",
    "#將cookie加入get請求\n",
    "r = requests.get('https://httpbin.org/get',cookies=jar)\n",
    "\n",
    "#輸出網頁原始碼\n",
    "print(r.text)"
   ]
  },
  {
   "cell_type": "code",
   "execution_count": 4,
   "metadata": {},
   "outputs": [
    {
     "name": "stdout",
     "output_type": "stream",
     "text": [
      "<RequestsCookieJar[<Cookie myCookieName=super_mario for httpbin.org/>]>\n"
     ]
    }
   ],
   "source": [
    "#開啟session\n",
    "session = requests.Session()\n",
    "#透過Session建立cookie\n",
    "session.get('https://httpbin.org/cookies/set/myCookieName/super_mario')\n",
    "#印出所有cookies\n",
    "print(session.cookies)"
   ]
  },
  {
   "cell_type": "code",
   "execution_count": null,
   "metadata": {},
   "outputs": [],
   "source": []
  },
  {
   "cell_type": "code",
   "execution_count": 5,
   "metadata": {},
   "outputs": [
    {
     "name": "stdout",
     "output_type": "stream",
     "text": [
      "super_mario\n"
     ]
    }
   ],
   "source": [
    "print(session.cookies['myCookieName'])\n",
    "#印出自訂cookie"
   ]
  },
  {
   "cell_type": "code",
   "execution_count": 7,
   "metadata": {},
   "outputs": [
    {
     "name": "stdout",
     "output_type": "stream",
     "text": [
      "財團法人台北市文化基金會\n",
      "台北市文化基金會（台北偶戲館樓上）\n"
     ]
    }
   ],
   "source": [
    "import json,requests\n",
    "r = requests.get('https://data.taipei/opendata/datalist/apiAccess?scope=resourceAquire&rid=35aa3c53-28fb-423c-91b6-2c22432d0d70&limit=100&offset=0')\n",
    "#將json轉成物件\n",
    "obj = json.loads(r.text)\n",
    "\n",
    "#輸出對應節點ˇ的文字\n",
    "print(obj['result']['results'][0]['ShowGroupName'])\n",
    "print(obj['result']['results'][0]['Location'])"
   ]
  },
  {
   "cell_type": "code",
   "execution_count": 8,
   "metadata": {},
   "outputs": [
    {
     "name": "stdout",
     "output_type": "stream",
     "text": [
      "{'Server': 'nginx', 'Date': 'Wed, 22 Jul 2020 00:58:34 GMT', 'Content-Type': 'application/json', 'Content-Length': '337775', 'Connection': 'keep-alive', 'Set-Cookie': 'PHPSESSID=555c46vpi3aoima2uipitmguru; path=/', 'Expires': 'Thu, 19 Nov 1981 08:52:00 GMT', 'Cache-Control': 'no-store, no-cache, must-revalidate', 'Pragma': 'no-cache', 'Access-Control-Allow-Origin': '*', 'Access-Control-Allow-Headers': 'X-Requested-With, Content-Type, Accept, Origin, Authorization', 'Access-Control-Allow-Methods': 'GET, POST, PUT, DELETE, PATCH, OPTIONS', 'X-Content-Type-Options': 'nosniff, nosniff', 'X-XSS-Protection': '1;mode=block, 1;mode=block', 'X-Frame-Options': 'SAMEORIGIN, SAMEORIGIN', 'Content-Security-Policy': 'frame-ancestors https://www.tgos.tw, frame-ancestors https://www.tgos.tw'}\n"
     ]
    }
   ],
   "source": [
    "print(r.headers)"
   ]
  },
  {
   "cell_type": "code",
   "execution_count": 9,
   "metadata": {},
   "outputs": [
    {
     "name": "stdout",
     "output_type": "stream",
     "text": [
      "application/json\n"
     ]
    }
   ],
   "source": [
    "print(r.headers['Content-Type'])"
   ]
  },
  {
   "cell_type": "code",
   "execution_count": null,
   "metadata": {},
   "outputs": [],
   "source": []
  }
 ],
 "metadata": {
  "kernelspec": {
   "display_name": "Python 3",
   "language": "python",
   "name": "python3"
  },
  "language_info": {
   "codemirror_mode": {
    "name": "ipython",
    "version": 3
   },
   "file_extension": ".py",
   "mimetype": "text/x-python",
   "name": "python",
   "nbconvert_exporter": "python",
   "pygments_lexer": "ipython3",
   "version": "3.7.7"
  }
 },
 "nbformat": 4,
 "nbformat_minor": 4
}
