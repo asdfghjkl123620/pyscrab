{
 "cells": [
  {
   "cell_type": "code",
   "execution_count": 4,
   "metadata": {},
   "outputs": [
    {
     "name": "stdout",
     "output_type": "stream",
     "text": [
      "<a href=\"/bbs/\" id=\"logo\">批踢踢實業坊</a>\n"
     ]
    }
   ],
   "source": [
    "import requests as rq\n",
    "from bs4 import BeautifulSoup\n",
    "# PTT NBA 板\n",
    "url = \"https://www.ptt.cc/bbs/NBA/index.html\"\n",
    "# 用 requests 的 get 方法把網頁抓下來\n",
    "response = rq.get(url)\n",
    "# text 屬性就是 html 檔案\n",
    "html_doc = response.text\n",
    "# 指定 lxml 作為解析器\n",
    "soup = BeautifulSoup(response.text, \"lxml\")\n",
    "# 第一個 <a></a>\n",
    "print(soup.find(\"a\"))"
   ]
  },
  {
   "cell_type": "code",
   "execution_count": 5,
   "metadata": {},
   "outputs": [
    {
     "name": "stdout",
     "output_type": "stream",
     "text": [
      "[<a href=\"/bbs/\" id=\"logo\">批踢踢實業坊</a>, <a class=\"board\" href=\"/bbs/NBA/index.html\"><span class=\"board-label\">看板 </span>NBA</a>, <a class=\"right small\" href=\"/about.html\">關於我們</a>, <a class=\"right small\" href=\"/contact.html\">聯絡資訊</a>, <a class=\"btn selected\" href=\"/bbs/NBA/index.html\">看板</a>, <a class=\"btn\" href=\"/man/NBA/index.html\">精華區</a>, <a class=\"btn wide\" href=\"/bbs/NBA/index1.html\">最舊</a>, <a class=\"btn wide\" href=\"/bbs/NBA/index6501.html\">‹ 上頁</a>, <a class=\"btn wide disabled\">下頁 ›</a>, <a class=\"btn wide\" href=\"/bbs/NBA/index.html\">最新</a>, <a href=\"/bbs/NBA/M.1595313583.A.5F8.html\">[新聞] 支持巴特勒 超過30名球員提球衣不印名字</a>, <a href=\"/bbs/NBA/search?q=thread%3A%5B%E6%96%B0%E8%81%9E%5D+%E6%94%AF%E6%8C%81%E5%B7%B4%E7%89%B9%E5%8B%92+%E8%B6%85%E9%81%8E30%E5%90%8D%E7%90%83%E5%93%A1%E6%8F%90%E7%90%83%E8%A1%A3%E4%B8%8D%E5%8D%B0%E5%90%8D%E5%AD%97\">搜尋同標題文章</a>, <a href=\"/bbs/NBA/search?q=author%3As106667\">搜尋看板內 s106667 的文章</a>, <a href=\"/bbs/NBA/M.1595318914.A.5F9.html\">[花邊] 駁復賽吃住條件差 亞當斯:我們可是住渡假村</a>, <a href=\"/bbs/NBA/search?q=thread%3A%5B%E8%8A%B1%E9%82%8A%5D+%E9%A7%81%E5%BE%A9%E8%B3%BD%E5%90%83%E4%BD%8F%E6%A2%9D%E4%BB%B6%E5%B7%AE+%E4%BA%9E%E7%95%B6%E6%96%AF%3A%E6%88%91%E5%80%91%E5%8F%AF%E6%98%AF%E4%BD%8F%E6%B8%A1%E5%81%87%E6%9D%91\">搜尋同標題文章</a>, <a href=\"/bbs/NBA/search?q=author%3Athnlkj0665\">搜尋看板內 thnlkj0665 的文章</a>, <a href=\"/bbs/NBA/M.1595319013.A.E92.html\">[新聞] LBJ:沒有一天不想kobe</a>, <a href=\"/bbs/NBA/search?q=thread%3A%5B%E6%96%B0%E8%81%9E%5D+LBJ%3A%E6%B2%92%E6%9C%89%E4%B8%80%E5%A4%A9%E4%B8%8D%E6%83%B3kobe\">搜尋同標題文章</a>, <a href=\"/bbs/NBA/search?q=author%3Akidofking\">搜尋看板內 kidofking 的文章</a>, <a href=\"/bbs/NBA/M.1595328758.A.141.html\">[情報] 復賽熱身混戰賽程(台灣時間)</a>, <a href=\"/bbs/NBA/search?q=thread%3A%5B%E6%83%85%E5%A0%B1%5D+%E5%BE%A9%E8%B3%BD%E7%86%B1%E8%BA%AB%E6%B7%B7%E6%88%B0%E8%B3%BD%E7%A8%8B%28%E5%8F%B0%E7%81%A3%E6%99%82%E9%96%93%29\">搜尋同標題文章</a>, <a href=\"/bbs/NBA/search?q=author%3Akaikai1112\">搜尋看板內 kaikai1112 的文章</a>, <a href=\"/bbs/NBA/M.1595330647.A.72A.html\">[新聞] 復賽種子賽賽程(台灣時間)</a>, <a href=\"/bbs/NBA/search?q=thread%3A%5B%E6%96%B0%E8%81%9E%5D+%E5%BE%A9%E8%B3%BD%E7%A8%AE%E5%AD%90%E8%B3%BD%E8%B3%BD%E7%A8%8B%28%E5%8F%B0%E7%81%A3%E6%99%82%E9%96%93%29\">搜尋同標題文章</a>, <a href=\"/bbs/NBA/search?q=author%3Akaikai1112\">搜尋看板內 kaikai1112 的文章</a>, <a href=\"/bbs/NBA/M.1595331822.A.562.html\">[情報] SEASON Schedule 賽程 July 19–20</a>, <a href=\"/bbs/NBA/search?q=thread%3A%5B%E6%83%85%E5%A0%B1%5D+SEASON+Schedule+%E8%B3%BD%E7%A8%8B+July+19%E2%80%9320\">搜尋同標題文章</a>, <a href=\"/bbs/NBA/search?q=author%3AAcetoxy\">搜尋看板內 Acetoxy 的文章</a>, <a href=\"/bbs/NBA/M.1595338367.A.15B.html\">[新聞] 染疫後回歸訓練 巫師布萊恩自認狀態不錯</a>, <a href=\"/bbs/NBA/search?q=thread%3A%5B%E6%96%B0%E8%81%9E%5D+%E6%9F%93%E7%96%AB%E5%BE%8C%E5%9B%9E%E6%AD%B8%E8%A8%93%E7%B7%B4+%E5%B7%AB%E5%B8%AB%E5%B8%83%E8%90%8A%E6%81%A9%E8%87%AA%E8%AA%8D%E7%8B%80%E6%85%8B%E4%B8%8D%E9%8C%AF\">搜尋同標題文章</a>, <a href=\"/bbs/NBA/search?q=author%3Asampsonlu919\">搜尋看板內 sampsonlu919 的文章</a>, <a href=\"/bbs/NBA/M.1595343473.A.4F2.html\">[新聞]球評讚現役最有天賦 隊友期待唐西奇季後</a>, <a href=\"/bbs/NBA/search?q=thread%3A%5B%E6%96%B0%E8%81%9E%5D%E7%90%83%E8%A9%95%E8%AE%9A%E7%8F%BE%E5%BD%B9%E6%9C%80%E6%9C%89%E5%A4%A9%E8%B3%A6+%E9%9A%8A%E5%8F%8B%E6%9C%9F%E5%BE%85%E5%94%90%E8%A5%BF%E5%A5%87%E5%AD%A3%E5%BE%8C\">搜尋同標題文章</a>, <a href=\"/bbs/NBA/search?q=author%3Asodistrues\">搜尋看板內 sodistrues 的文章</a>, <a href=\"/bbs/NBA/M.1595346733.A.686.html\">[情報] 老鷹隊 公布2020-21年賽季新球衣</a>, <a href=\"/bbs/NBA/search?q=thread%3A%5B%E6%83%85%E5%A0%B1%5D+%E8%80%81%E9%B7%B9%E9%9A%8A+%E5%85%AC%E5%B8%832020-21%E5%B9%B4%E8%B3%BD%E5%AD%A3%E6%96%B0%E7%90%83%E8%A1%A3\">搜尋同標題文章</a>, <a href=\"/bbs/NBA/search?q=author%3Athnlkj0665\">搜尋看板內 thnlkj0665 的文章</a>, <a href=\"/bbs/NBA/M.1595347433.A.BE4.html\">[情報] 緯來 07/23~07/26 NBA復賽熱身賽轉播表</a>, <a href=\"/bbs/NBA/search?q=thread%3A%5B%E6%83%85%E5%A0%B1%5D+%E7%B7%AF%E4%BE%86+07%2F23~07%2F26+NBA%E5%BE%A9%E8%B3%BD%E7%86%B1%E8%BA%AB%E8%B3%BD%E8%BD%89%E6%92%AD%E8%A1%A8\">搜尋同標題文章</a>, <a href=\"/bbs/NBA/search?q=author%3Ashanyaochung\">搜尋看板內 shanyaochung 的文章</a>, <a href=\"/bbs/NBA/M.1595347933.A.CBE.html\">[情報] Popovich發表對COVID-19的看法</a>, <a href=\"/bbs/NBA/search?q=thread%3A%5B%E6%83%85%E5%A0%B1%5D+Popovich%E7%99%BC%E8%A1%A8%E5%B0%8DCOVID-19%E7%9A%84%E7%9C%8B%E6%B3%95\">搜尋同標題文章</a>, <a href=\"/bbs/NBA/search?q=author%3AChenWay\">搜尋看板內 ChenWay 的文章</a>, <a href=\"/bbs/NBA/M.1595357768.A.9DF.html\">[情報] Winslow賽季報銷</a>, <a href=\"/bbs/NBA/search?q=thread%3A%5B%E6%83%85%E5%A0%B1%5D+Winslow%E8%B3%BD%E5%AD%A3%E5%A0%B1%E9%8A%B7\">搜尋同標題文章</a>, <a href=\"/bbs/NBA/search?q=author%3Amelove1515\">搜尋看板內 melove1515 的文章</a>, <a href=\"/bbs/NBA/M.1595378979.A.9AA.html\">[情報] Marvin Bagley 賽季報銷</a>, <a href=\"/bbs/NBA/search?q=thread%3A%5B%E6%83%85%E5%A0%B1%5D+Marvin+Bagley+%E8%B3%BD%E5%AD%A3%E5%A0%B1%E9%8A%B7\">搜尋同標題文章</a>, <a href=\"/bbs/NBA/search?q=author%3Awilly911006\">搜尋看板內 willy911006 的文章</a>, <a href=\"/bbs/NBA/M.1595380995.A.06E.html\">[情報] KG跟其他投資人有興趣競標灰狼</a>, <a href=\"/bbs/NBA/search?q=thread%3A%5B%E6%83%85%E5%A0%B1%5D+KG%E8%B7%9F%E5%85%B6%E4%BB%96%E6%8A%95%E8%B3%87%E4%BA%BA%E6%9C%89%E8%88%88%E8%B6%A3%E7%AB%B6%E6%A8%99%E7%81%B0%E7%8B%BC\">搜尋同標題文章</a>, <a href=\"/bbs/NBA/search?q=author%3Apneumo\">搜尋看板內 pneumo 的文章</a>, <a href=\"/bbs/NBA/M.1595382334.A.A0B.html\">[情報] Beverley離開奧蘭多</a>, <a href=\"/bbs/NBA/search?q=thread%3A%5B%E6%83%85%E5%A0%B1%5D+Beverley%E9%9B%A2%E9%96%8B%E5%A5%A7%E8%98%AD%E5%A4%9A\">搜尋同標題文章</a>, <a href=\"/bbs/NBA/search?q=author%3Ajackal44748\">搜尋看板內 jackal44748 的文章</a>, <a href=\"/bbs/NBA/M.1595382462.A.88F.html\">Re: [情報] KG跟其他投資人有興趣競標灰狼</a>, <a href=\"/bbs/NBA/search?q=thread%3A%5B%E6%83%85%E5%A0%B1%5D+KG%E8%B7%9F%E5%85%B6%E4%BB%96%E6%8A%95%E8%B3%87%E4%BA%BA%E6%9C%89%E8%88%88%E8%B6%A3%E7%AB%B6%E6%A8%99%E7%81%B0%E7%8B%BC\">搜尋同標題文章</a>, <a href=\"/bbs/NBA/search?q=author%3ALeaflock\">搜尋看板內 Leaflock 的文章</a>, <a href=\"/bbs/NBA/M.1558698194.A.1DC.html\">[公告] 板規v6.8</a>, <a href=\"/bbs/NBA/search?q=thread%3A%5B%E5%85%AC%E5%91%8A%5D+%E6%9D%BF%E8%A6%8Fv6.8\">搜尋同標題文章</a>, <a href=\"/bbs/NBA/search?q=author%3AVedan\">搜尋看板內 Vedan 的文章</a>, <a href=\"/bbs/NBA/M.1571971445.A.8A8.html\">[公告] 版主上任相關事項 </a>, <a href=\"/bbs/NBA/search?q=thread%3A%5B%E5%85%AC%E5%91%8A%5D+%E7%89%88%E4%B8%BB%E4%B8%8A%E4%BB%BB%E7%9B%B8%E9%97%9C%E4%BA%8B%E9%A0%85+\">搜尋同標題文章</a>, <a href=\"/bbs/NBA/search?q=author%3Aqazwsx879345\">搜尋看板內 qazwsx879345 的文章</a>, <a href=\"/bbs/NBA/M.1583083184.A.C4D.html\">[情報] SEASON Schedule 賽程 March 19–20</a>, <a href=\"/bbs/NBA/search?q=thread%3A%5B%E6%83%85%E5%A0%B1%5D+SEASON+Schedule+%E8%B3%BD%E7%A8%8B+March+19%E2%80%9320\">搜尋同標題文章</a>, <a href=\"/bbs/NBA/search?q=author%3AAcetoxy\">搜尋看板內 Acetoxy 的文章</a>, <a href=\"/bbs/NBA/M.1583725468.A.281.html\">[公告] 第一次被退文，可在三天後刪除退文</a>, <a href=\"/bbs/NBA/search?q=thread%3A%5B%E5%85%AC%E5%91%8A%5D+%E7%AC%AC%E4%B8%80%E6%AC%A1%E8%A2%AB%E9%80%80%E6%96%87%EF%BC%8C%E5%8F%AF%E5%9C%A8%E4%B8%89%E5%A4%A9%E5%BE%8C%E5%88%AA%E9%99%A4%E9%80%80%E6%96%87\">搜尋同標題文章</a>, <a href=\"/bbs/NBA/search?q=author%3AVedan\">搜尋看板內 Vedan 的文章</a>, <a href=\"/bbs/NBA/M.1585848482.A.494.html\">[公告] 板務說明 (發錢)</a>, <a href=\"/bbs/NBA/search?q=thread%3A%5B%E5%85%AC%E5%91%8A%5D+%E6%9D%BF%E5%8B%99%E8%AA%AA%E6%98%8E+%28%E7%99%BC%E9%8C%A2%29\">搜尋同標題文章</a>, <a href=\"/bbs/NBA/search?q=author%3AVedan\">搜尋看板內 Vedan 的文章</a>]\n",
      "--------\n"
     ]
    }
   ],
   "source": [
    "# 全部 <a></a>，此時回傳 list\n",
    "print(soup.find_all(\"a\"))\n",
    "print(\"--------\")"
   ]
  },
  {
   "cell_type": "code",
   "execution_count": 6,
   "metadata": {},
   "outputs": [
    {
     "name": "stdout",
     "output_type": "stream",
     "text": [
      "<a class=\"right small\" href=\"/about.html\">關於我們</a>\n"
     ]
    }
   ],
   "source": [
    "print(soup.find_all(\"a\")[2])"
   ]
  },
  {
   "cell_type": "code",
   "execution_count": 7,
   "metadata": {},
   "outputs": [],
   "source": [
    "from bs4 import BeautifulSoup\n",
    "import requests"
   ]
  },
  {
   "cell_type": "code",
   "execution_count": 8,
   "metadata": {},
   "outputs": [],
   "source": [
    "url = \"https://www.ptt.cc/bbs/NBA/index.html\"\n",
    "response = requests.get(url)\n",
    "# text 屬性就是 html 檔案\n",
    "html_doc = response.text\n",
    "# 指定 lxml 作為解析器\n",
    "soup = BeautifulSoup(response.text, \"lxml\")\n",
    "posts = soup.find_all(\"div\", class_= \"r-ent\")"
   ]
  },
  {
   "cell_type": "code",
   "execution_count": 9,
   "metadata": {},
   "outputs": [
    {
     "name": "stdout",
     "output_type": "stream",
     "text": [
      "[<div class=\"r-ent\">\n",
      "<div class=\"nrec\"></div>\n",
      "<div class=\"title\">\n",
      "\t\t\t\n",
      "\t\t\t\t(本文已被刪除) [k7202001]\n",
      "\t\t\t\n",
      "\t\t\t</div>\n",
      "<div class=\"meta\">\n",
      "<div class=\"author\">-</div>\n",
      "<div class=\"article-menu\">\n",
      "</div>\n",
      "<div class=\"date\"> 7/21</div>\n",
      "<div class=\"mark\"></div>\n",
      "</div>\n",
      "</div>, <div class=\"r-ent\">\n",
      "<div class=\"nrec\"><span class=\"hl f3\">27</span></div>\n",
      "<div class=\"title\">\n",
      "<a href=\"/bbs/NBA/M.1595313583.A.5F8.html\">[新聞] 支持巴特勒 超過30名球員提球衣不印名字</a>\n",
      "</div>\n",
      "<div class=\"meta\">\n",
      "<div class=\"author\">s106667</div>\n",
      "<div class=\"article-menu\">\n",
      "<div class=\"trigger\">⋯</div>\n",
      "<div class=\"dropdown\">\n",
      "<div class=\"item\"><a href=\"/bbs/NBA/search?q=thread%3A%5B%E6%96%B0%E8%81%9E%5D+%E6%94%AF%E6%8C%81%E5%B7%B4%E7%89%B9%E5%8B%92+%E8%B6%85%E9%81%8E30%E5%90%8D%E7%90%83%E5%93%A1%E6%8F%90%E7%90%83%E8%A1%A3%E4%B8%8D%E5%8D%B0%E5%90%8D%E5%AD%97\">搜尋同標題文章</a></div>\n",
      "<div class=\"item\"><a href=\"/bbs/NBA/search?q=author%3As106667\">搜尋看板內 s106667 的文章</a></div>\n",
      "</div>\n",
      "</div>\n",
      "<div class=\"date\"> 7/21</div>\n",
      "<div class=\"mark\"></div>\n",
      "</div>\n",
      "</div>, <div class=\"r-ent\">\n",
      "<div class=\"nrec\"><span class=\"hl f3\">65</span></div>\n",
      "<div class=\"title\">\n",
      "<a href=\"/bbs/NBA/M.1595318914.A.5F9.html\">[花邊] 駁復賽吃住條件差 亞當斯:我們可是住渡假村</a>\n",
      "</div>\n",
      "<div class=\"meta\">\n",
      "<div class=\"author\">thnlkj0665</div>\n",
      "<div class=\"article-menu\">\n",
      "<div class=\"trigger\">⋯</div>\n",
      "<div class=\"dropdown\">\n",
      "<div class=\"item\"><a href=\"/bbs/NBA/search?q=thread%3A%5B%E8%8A%B1%E9%82%8A%5D+%E9%A7%81%E5%BE%A9%E8%B3%BD%E5%90%83%E4%BD%8F%E6%A2%9D%E4%BB%B6%E5%B7%AE+%E4%BA%9E%E7%95%B6%E6%96%AF%3A%E6%88%91%E5%80%91%E5%8F%AF%E6%98%AF%E4%BD%8F%E6%B8%A1%E5%81%87%E6%9D%91\">搜尋同標題文章</a></div>\n",
      "<div class=\"item\"><a href=\"/bbs/NBA/search?q=author%3Athnlkj0665\">搜尋看板內 thnlkj0665 的文章</a></div>\n",
      "</div>\n",
      "</div>\n",
      "<div class=\"date\"> 7/21</div>\n",
      "<div class=\"mark\"></div>\n",
      "</div>\n",
      "</div>, <div class=\"r-ent\">\n",
      "<div class=\"nrec\"><span class=\"hl f1\">爆</span></div>\n",
      "<div class=\"title\">\n",
      "<a href=\"/bbs/NBA/M.1595319013.A.E92.html\">[新聞] LBJ:沒有一天不想kobe</a>\n",
      "</div>\n",
      "<div class=\"meta\">\n",
      "<div class=\"author\">kidofking</div>\n",
      "<div class=\"article-menu\">\n",
      "<div class=\"trigger\">⋯</div>\n",
      "<div class=\"dropdown\">\n",
      "<div class=\"item\"><a href=\"/bbs/NBA/search?q=thread%3A%5B%E6%96%B0%E8%81%9E%5D+LBJ%3A%E6%B2%92%E6%9C%89%E4%B8%80%E5%A4%A9%E4%B8%8D%E6%83%B3kobe\">搜尋同標題文章</a></div>\n",
      "<div class=\"item\"><a href=\"/bbs/NBA/search?q=author%3Akidofking\">搜尋看板內 kidofking 的文章</a></div>\n",
      "</div>\n",
      "</div>\n",
      "<div class=\"date\"> 7/21</div>\n",
      "<div class=\"mark\"></div>\n",
      "</div>\n",
      "</div>, <div class=\"r-ent\">\n",
      "<div class=\"nrec\"><span class=\"hl f2\">4</span></div>\n",
      "<div class=\"title\">\n",
      "<a href=\"/bbs/NBA/M.1595328758.A.141.html\">[情報] 復賽熱身混戰賽程(台灣時間)</a>\n",
      "</div>\n",
      "<div class=\"meta\">\n",
      "<div class=\"author\">kaikai1112</div>\n",
      "<div class=\"article-menu\">\n",
      "<div class=\"trigger\">⋯</div>\n",
      "<div class=\"dropdown\">\n",
      "<div class=\"item\"><a href=\"/bbs/NBA/search?q=thread%3A%5B%E6%83%85%E5%A0%B1%5D+%E5%BE%A9%E8%B3%BD%E7%86%B1%E8%BA%AB%E6%B7%B7%E6%88%B0%E8%B3%BD%E7%A8%8B%28%E5%8F%B0%E7%81%A3%E6%99%82%E9%96%93%29\">搜尋同標題文章</a></div>\n",
      "<div class=\"item\"><a href=\"/bbs/NBA/search?q=author%3Akaikai1112\">搜尋看板內 kaikai1112 的文章</a></div>\n",
      "</div>\n",
      "</div>\n",
      "<div class=\"date\"> 7/21</div>\n",
      "<div class=\"mark\"></div>\n",
      "</div>\n",
      "</div>, <div class=\"r-ent\">\n",
      "<div class=\"nrec\"><span class=\"hl f2\">4</span></div>\n",
      "<div class=\"title\">\n",
      "<a href=\"/bbs/NBA/M.1595330647.A.72A.html\">[新聞] 復賽種子賽賽程(台灣時間)</a>\n",
      "</div>\n",
      "<div class=\"meta\">\n",
      "<div class=\"author\">kaikai1112</div>\n",
      "<div class=\"article-menu\">\n",
      "<div class=\"trigger\">⋯</div>\n",
      "<div class=\"dropdown\">\n",
      "<div class=\"item\"><a href=\"/bbs/NBA/search?q=thread%3A%5B%E6%96%B0%E8%81%9E%5D+%E5%BE%A9%E8%B3%BD%E7%A8%AE%E5%AD%90%E8%B3%BD%E8%B3%BD%E7%A8%8B%28%E5%8F%B0%E7%81%A3%E6%99%82%E9%96%93%29\">搜尋同標題文章</a></div>\n",
      "<div class=\"item\"><a href=\"/bbs/NBA/search?q=author%3Akaikai1112\">搜尋看板內 kaikai1112 的文章</a></div>\n",
      "</div>\n",
      "</div>\n",
      "<div class=\"date\"> 7/21</div>\n",
      "<div class=\"mark\"></div>\n",
      "</div>\n",
      "</div>, <div class=\"r-ent\">\n",
      "<div class=\"nrec\"><span class=\"hl f3\">15</span></div>\n",
      "<div class=\"title\">\n",
      "<a href=\"/bbs/NBA/M.1595331822.A.562.html\">[情報] SEASON Schedule 賽程 July 19–20</a>\n",
      "</div>\n",
      "<div class=\"meta\">\n",
      "<div class=\"author\">Acetoxy</div>\n",
      "<div class=\"article-menu\">\n",
      "<div class=\"trigger\">⋯</div>\n",
      "<div class=\"dropdown\">\n",
      "<div class=\"item\"><a href=\"/bbs/NBA/search?q=thread%3A%5B%E6%83%85%E5%A0%B1%5D+SEASON+Schedule+%E8%B3%BD%E7%A8%8B+July+19%E2%80%9320\">搜尋同標題文章</a></div>\n",
      "<div class=\"item\"><a href=\"/bbs/NBA/search?q=author%3AAcetoxy\">搜尋看板內 Acetoxy 的文章</a></div>\n",
      "</div>\n",
      "</div>\n",
      "<div class=\"date\"> 7/21</div>\n",
      "<div class=\"mark\"></div>\n",
      "</div>\n",
      "</div>, <div class=\"r-ent\">\n",
      "<div class=\"nrec\"><span class=\"hl f2\">4</span></div>\n",
      "<div class=\"title\">\n",
      "<a href=\"/bbs/NBA/M.1595338367.A.15B.html\">[新聞] 染疫後回歸訓練 巫師布萊恩自認狀態不錯</a>\n",
      "</div>\n",
      "<div class=\"meta\">\n",
      "<div class=\"author\">sampsonlu919</div>\n",
      "<div class=\"article-menu\">\n",
      "<div class=\"trigger\">⋯</div>\n",
      "<div class=\"dropdown\">\n",
      "<div class=\"item\"><a href=\"/bbs/NBA/search?q=thread%3A%5B%E6%96%B0%E8%81%9E%5D+%E6%9F%93%E7%96%AB%E5%BE%8C%E5%9B%9E%E6%AD%B8%E8%A8%93%E7%B7%B4+%E5%B7%AB%E5%B8%AB%E5%B8%83%E8%90%8A%E6%81%A9%E8%87%AA%E8%AA%8D%E7%8B%80%E6%85%8B%E4%B8%8D%E9%8C%AF\">搜尋同標題文章</a></div>\n",
      "<div class=\"item\"><a href=\"/bbs/NBA/search?q=author%3Asampsonlu919\">搜尋看板內 sampsonlu919 的文章</a></div>\n",
      "</div>\n",
      "</div>\n",
      "<div class=\"date\"> 7/21</div>\n",
      "<div class=\"mark\"></div>\n",
      "</div>\n",
      "</div>, <div class=\"r-ent\">\n",
      "<div class=\"nrec\"></div>\n",
      "<div class=\"title\">\n",
      "\t\t\t\n",
      "\t\t\t\t(本文已被刪除) [ABOEDC]\n",
      "\t\t\t\n",
      "\t\t\t</div>\n",
      "<div class=\"meta\">\n",
      "<div class=\"author\">-</div>\n",
      "<div class=\"article-menu\">\n",
      "</div>\n",
      "<div class=\"date\"> 7/21</div>\n",
      "<div class=\"mark\"></div>\n",
      "</div>\n",
      "</div>, <div class=\"r-ent\">\n",
      "<div class=\"nrec\"><span class=\"hl f3\">16</span></div>\n",
      "<div class=\"title\">\n",
      "<a href=\"/bbs/NBA/M.1595343473.A.4F2.html\">[新聞]球評讚現役最有天賦 隊友期待唐西奇季後</a>\n",
      "</div>\n",
      "<div class=\"meta\">\n",
      "<div class=\"author\">sodistrues</div>\n",
      "<div class=\"article-menu\">\n",
      "<div class=\"trigger\">⋯</div>\n",
      "<div class=\"dropdown\">\n",
      "<div class=\"item\"><a href=\"/bbs/NBA/search?q=thread%3A%5B%E6%96%B0%E8%81%9E%5D%E7%90%83%E8%A9%95%E8%AE%9A%E7%8F%BE%E5%BD%B9%E6%9C%80%E6%9C%89%E5%A4%A9%E8%B3%A6+%E9%9A%8A%E5%8F%8B%E6%9C%9F%E5%BE%85%E5%94%90%E8%A5%BF%E5%A5%87%E5%AD%A3%E5%BE%8C\">搜尋同標題文章</a></div>\n",
      "<div class=\"item\"><a href=\"/bbs/NBA/search?q=author%3Asodistrues\">搜尋看板內 sodistrues 的文章</a></div>\n",
      "</div>\n",
      "</div>\n",
      "<div class=\"date\"> 7/21</div>\n",
      "<div class=\"mark\"></div>\n",
      "</div>\n",
      "</div>, <div class=\"r-ent\">\n",
      "<div class=\"nrec\"><span class=\"hl f3\">34</span></div>\n",
      "<div class=\"title\">\n",
      "<a href=\"/bbs/NBA/M.1595346733.A.686.html\">[情報] 老鷹隊 公布2020-21年賽季新球衣</a>\n",
      "</div>\n",
      "<div class=\"meta\">\n",
      "<div class=\"author\">thnlkj0665</div>\n",
      "<div class=\"article-menu\">\n",
      "<div class=\"trigger\">⋯</div>\n",
      "<div class=\"dropdown\">\n",
      "<div class=\"item\"><a href=\"/bbs/NBA/search?q=thread%3A%5B%E6%83%85%E5%A0%B1%5D+%E8%80%81%E9%B7%B9%E9%9A%8A+%E5%85%AC%E5%B8%832020-21%E5%B9%B4%E8%B3%BD%E5%AD%A3%E6%96%B0%E7%90%83%E8%A1%A3\">搜尋同標題文章</a></div>\n",
      "<div class=\"item\"><a href=\"/bbs/NBA/search?q=author%3Athnlkj0665\">搜尋看板內 thnlkj0665 的文章</a></div>\n",
      "</div>\n",
      "</div>\n",
      "<div class=\"date\"> 7/21</div>\n",
      "<div class=\"mark\"></div>\n",
      "</div>\n",
      "</div>, <div class=\"r-ent\">\n",
      "<div class=\"nrec\"><span class=\"hl f3\">10</span></div>\n",
      "<div class=\"title\">\n",
      "<a href=\"/bbs/NBA/M.1595347433.A.BE4.html\">[情報] 緯來 07/23~07/26 NBA復賽熱身賽轉播表</a>\n",
      "</div>\n",
      "<div class=\"meta\">\n",
      "<div class=\"author\">shanyaochung</div>\n",
      "<div class=\"article-menu\">\n",
      "<div class=\"trigger\">⋯</div>\n",
      "<div class=\"dropdown\">\n",
      "<div class=\"item\"><a href=\"/bbs/NBA/search?q=thread%3A%5B%E6%83%85%E5%A0%B1%5D+%E7%B7%AF%E4%BE%86+07%2F23~07%2F26+NBA%E5%BE%A9%E8%B3%BD%E7%86%B1%E8%BA%AB%E8%B3%BD%E8%BD%89%E6%92%AD%E8%A1%A8\">搜尋同標題文章</a></div>\n",
      "<div class=\"item\"><a href=\"/bbs/NBA/search?q=author%3Ashanyaochung\">搜尋看板內 shanyaochung 的文章</a></div>\n",
      "</div>\n",
      "</div>\n",
      "<div class=\"date\"> 7/22</div>\n",
      "<div class=\"mark\"></div>\n",
      "</div>\n",
      "</div>, <div class=\"r-ent\">\n",
      "<div class=\"nrec\"><span class=\"hl f3\">24</span></div>\n",
      "<div class=\"title\">\n",
      "<a href=\"/bbs/NBA/M.1595347933.A.CBE.html\">[情報] Popovich發表對COVID-19的看法</a>\n",
      "</div>\n",
      "<div class=\"meta\">\n",
      "<div class=\"author\">ChenWay</div>\n",
      "<div class=\"article-menu\">\n",
      "<div class=\"trigger\">⋯</div>\n",
      "<div class=\"dropdown\">\n",
      "<div class=\"item\"><a href=\"/bbs/NBA/search?q=thread%3A%5B%E6%83%85%E5%A0%B1%5D+Popovich%E7%99%BC%E8%A1%A8%E5%B0%8DCOVID-19%E7%9A%84%E7%9C%8B%E6%B3%95\">搜尋同標題文章</a></div>\n",
      "<div class=\"item\"><a href=\"/bbs/NBA/search?q=author%3AChenWay\">搜尋看板內 ChenWay 的文章</a></div>\n",
      "</div>\n",
      "</div>\n",
      "<div class=\"date\"> 7/22</div>\n",
      "<div class=\"mark\"></div>\n",
      "</div>\n",
      "</div>, <div class=\"r-ent\">\n",
      "<div class=\"nrec\"><span class=\"hl f2\">7</span></div>\n",
      "<div class=\"title\">\n",
      "\t\t\t\n",
      "\t\t\t\t(本文已被刪除) [Clarkliu]\n",
      "\t\t\t\n",
      "\t\t\t</div>\n",
      "<div class=\"meta\">\n",
      "<div class=\"author\">-</div>\n",
      "<div class=\"article-menu\">\n",
      "</div>\n",
      "<div class=\"date\"> 7/22</div>\n",
      "<div class=\"mark\"></div>\n",
      "</div>\n",
      "</div>, <div class=\"r-ent\">\n",
      "<div class=\"nrec\"><span class=\"hl f3\">18</span></div>\n",
      "<div class=\"title\">\n",
      "<a href=\"/bbs/NBA/M.1595357768.A.9DF.html\">[情報] Winslow賽季報銷</a>\n",
      "</div>\n",
      "<div class=\"meta\">\n",
      "<div class=\"author\">melove1515</div>\n",
      "<div class=\"article-menu\">\n",
      "<div class=\"trigger\">⋯</div>\n",
      "<div class=\"dropdown\">\n",
      "<div class=\"item\"><a href=\"/bbs/NBA/search?q=thread%3A%5B%E6%83%85%E5%A0%B1%5D+Winslow%E8%B3%BD%E5%AD%A3%E5%A0%B1%E9%8A%B7\">搜尋同標題文章</a></div>\n",
      "<div class=\"item\"><a href=\"/bbs/NBA/search?q=author%3Amelove1515\">搜尋看板內 melove1515 的文章</a></div>\n",
      "</div>\n",
      "</div>\n",
      "<div class=\"date\"> 7/22</div>\n",
      "<div class=\"mark\"></div>\n",
      "</div>\n",
      "</div>, <div class=\"r-ent\">\n",
      "<div class=\"nrec\"><span class=\"hl f3\">20</span></div>\n",
      "<div class=\"title\">\n",
      "<a href=\"/bbs/NBA/M.1595378979.A.9AA.html\">[情報] Marvin Bagley 賽季報銷</a>\n",
      "</div>\n",
      "<div class=\"meta\">\n",
      "<div class=\"author\">willy911006</div>\n",
      "<div class=\"article-menu\">\n",
      "<div class=\"trigger\">⋯</div>\n",
      "<div class=\"dropdown\">\n",
      "<div class=\"item\"><a href=\"/bbs/NBA/search?q=thread%3A%5B%E6%83%85%E5%A0%B1%5D+Marvin+Bagley+%E8%B3%BD%E5%AD%A3%E5%A0%B1%E9%8A%B7\">搜尋同標題文章</a></div>\n",
      "<div class=\"item\"><a href=\"/bbs/NBA/search?q=author%3Awilly911006\">搜尋看板內 willy911006 的文章</a></div>\n",
      "</div>\n",
      "</div>\n",
      "<div class=\"date\"> 7/22</div>\n",
      "<div class=\"mark\"></div>\n",
      "</div>\n",
      "</div>, <div class=\"r-ent\">\n",
      "<div class=\"nrec\"><span class=\"hl f2\">7</span></div>\n",
      "<div class=\"title\">\n",
      "<a href=\"/bbs/NBA/M.1595380995.A.06E.html\">[情報] KG跟其他投資人有興趣競標灰狼</a>\n",
      "</div>\n",
      "<div class=\"meta\">\n",
      "<div class=\"author\">pneumo</div>\n",
      "<div class=\"article-menu\">\n",
      "<div class=\"trigger\">⋯</div>\n",
      "<div class=\"dropdown\">\n",
      "<div class=\"item\"><a href=\"/bbs/NBA/search?q=thread%3A%5B%E6%83%85%E5%A0%B1%5D+KG%E8%B7%9F%E5%85%B6%E4%BB%96%E6%8A%95%E8%B3%87%E4%BA%BA%E6%9C%89%E8%88%88%E8%B6%A3%E7%AB%B6%E6%A8%99%E7%81%B0%E7%8B%BC\">搜尋同標題文章</a></div>\n",
      "<div class=\"item\"><a href=\"/bbs/NBA/search?q=author%3Apneumo\">搜尋看板內 pneumo 的文章</a></div>\n",
      "</div>\n",
      "</div>\n",
      "<div class=\"date\"> 7/22</div>\n",
      "<div class=\"mark\"></div>\n",
      "</div>\n",
      "</div>, <div class=\"r-ent\">\n",
      "<div class=\"nrec\"><span class=\"hl f2\">6</span></div>\n",
      "<div class=\"title\">\n",
      "<a href=\"/bbs/NBA/M.1595382334.A.A0B.html\">[情報] Beverley離開奧蘭多</a>\n",
      "</div>\n",
      "<div class=\"meta\">\n",
      "<div class=\"author\">jackal44748</div>\n",
      "<div class=\"article-menu\">\n",
      "<div class=\"trigger\">⋯</div>\n",
      "<div class=\"dropdown\">\n",
      "<div class=\"item\"><a href=\"/bbs/NBA/search?q=thread%3A%5B%E6%83%85%E5%A0%B1%5D+Beverley%E9%9B%A2%E9%96%8B%E5%A5%A7%E8%98%AD%E5%A4%9A\">搜尋同標題文章</a></div>\n",
      "<div class=\"item\"><a href=\"/bbs/NBA/search?q=author%3Ajackal44748\">搜尋看板內 jackal44748 的文章</a></div>\n",
      "</div>\n",
      "</div>\n",
      "<div class=\"date\"> 7/22</div>\n",
      "<div class=\"mark\"></div>\n",
      "</div>\n",
      "</div>, <div class=\"r-ent\">\n",
      "<div class=\"nrec\"><span class=\"hl f2\">1</span></div>\n",
      "<div class=\"title\">\n",
      "<a href=\"/bbs/NBA/M.1595382462.A.88F.html\">Re: [情報] KG跟其他投資人有興趣競標灰狼</a>\n",
      "</div>\n",
      "<div class=\"meta\">\n",
      "<div class=\"author\">Leaflock</div>\n",
      "<div class=\"article-menu\">\n",
      "<div class=\"trigger\">⋯</div>\n",
      "<div class=\"dropdown\">\n",
      "<div class=\"item\"><a href=\"/bbs/NBA/search?q=thread%3A%5B%E6%83%85%E5%A0%B1%5D+KG%E8%B7%9F%E5%85%B6%E4%BB%96%E6%8A%95%E8%B3%87%E4%BA%BA%E6%9C%89%E8%88%88%E8%B6%A3%E7%AB%B6%E6%A8%99%E7%81%B0%E7%8B%BC\">搜尋同標題文章</a></div>\n",
      "<div class=\"item\"><a href=\"/bbs/NBA/search?q=author%3ALeaflock\">搜尋看板內 Leaflock 的文章</a></div>\n",
      "</div>\n",
      "</div>\n",
      "<div class=\"date\"> 7/22</div>\n",
      "<div class=\"mark\"></div>\n",
      "</div>\n",
      "</div>, <div class=\"r-ent\">\n",
      "<div class=\"nrec\"></div>\n",
      "<div class=\"title\">\n",
      "<a href=\"/bbs/NBA/M.1558698194.A.1DC.html\">[公告] 板規v6.8</a>\n",
      "</div>\n",
      "<div class=\"meta\">\n",
      "<div class=\"author\">Vedan</div>\n",
      "<div class=\"article-menu\">\n",
      "<div class=\"trigger\">⋯</div>\n",
      "<div class=\"dropdown\">\n",
      "<div class=\"item\"><a href=\"/bbs/NBA/search?q=thread%3A%5B%E5%85%AC%E5%91%8A%5D+%E6%9D%BF%E8%A6%8Fv6.8\">搜尋同標題文章</a></div>\n",
      "<div class=\"item\"><a href=\"/bbs/NBA/search?q=author%3AVedan\">搜尋看板內 Vedan 的文章</a></div>\n",
      "</div>\n",
      "</div>\n",
      "<div class=\"date\"> 5/24</div>\n",
      "<div class=\"mark\">!</div>\n",
      "</div>\n",
      "</div>, <div class=\"r-ent\">\n",
      "<div class=\"nrec\"><span class=\"hl f3\">39</span></div>\n",
      "<div class=\"title\">\n",
      "<a href=\"/bbs/NBA/M.1571971445.A.8A8.html\">[公告] 版主上任相關事項 </a>\n",
      "</div>\n",
      "<div class=\"meta\">\n",
      "<div class=\"author\">qazwsx879345</div>\n",
      "<div class=\"article-menu\">\n",
      "<div class=\"trigger\">⋯</div>\n",
      "<div class=\"dropdown\">\n",
      "<div class=\"item\"><a href=\"/bbs/NBA/search?q=thread%3A%5B%E5%85%AC%E5%91%8A%5D+%E7%89%88%E4%B8%BB%E4%B8%8A%E4%BB%BB%E7%9B%B8%E9%97%9C%E4%BA%8B%E9%A0%85+\">搜尋同標題文章</a></div>\n",
      "<div class=\"item\"><a href=\"/bbs/NBA/search?q=author%3Aqazwsx879345\">搜尋看板內 qazwsx879345 的文章</a></div>\n",
      "</div>\n",
      "</div>\n",
      "<div class=\"date\">10/25</div>\n",
      "<div class=\"mark\">!</div>\n",
      "</div>\n",
      "</div>, <div class=\"r-ent\">\n",
      "<div class=\"nrec\"><span class=\"hl f3\">11</span></div>\n",
      "<div class=\"title\">\n",
      "<a href=\"/bbs/NBA/M.1583083184.A.C4D.html\">[情報] SEASON Schedule 賽程 March 19–20</a>\n",
      "</div>\n",
      "<div class=\"meta\">\n",
      "<div class=\"author\">Acetoxy</div>\n",
      "<div class=\"article-menu\">\n",
      "<div class=\"trigger\">⋯</div>\n",
      "<div class=\"dropdown\">\n",
      "<div class=\"item\"><a href=\"/bbs/NBA/search?q=thread%3A%5B%E6%83%85%E5%A0%B1%5D+SEASON+Schedule+%E8%B3%BD%E7%A8%8B+March+19%E2%80%9320\">搜尋同標題文章</a></div>\n",
      "<div class=\"item\"><a href=\"/bbs/NBA/search?q=author%3AAcetoxy\">搜尋看板內 Acetoxy 的文章</a></div>\n",
      "</div>\n",
      "</div>\n",
      "<div class=\"date\"> 3/02</div>\n",
      "<div class=\"mark\"></div>\n",
      "</div>\n",
      "</div>, <div class=\"r-ent\">\n",
      "<div class=\"nrec\"><span class=\"hl f3\">74</span></div>\n",
      "<div class=\"title\">\n",
      "<a href=\"/bbs/NBA/M.1583725468.A.281.html\">[公告] 第一次被退文，可在三天後刪除退文</a>\n",
      "</div>\n",
      "<div class=\"meta\">\n",
      "<div class=\"author\">Vedan</div>\n",
      "<div class=\"article-menu\">\n",
      "<div class=\"trigger\">⋯</div>\n",
      "<div class=\"dropdown\">\n",
      "<div class=\"item\"><a href=\"/bbs/NBA/search?q=thread%3A%5B%E5%85%AC%E5%91%8A%5D+%E7%AC%AC%E4%B8%80%E6%AC%A1%E8%A2%AB%E9%80%80%E6%96%87%EF%BC%8C%E5%8F%AF%E5%9C%A8%E4%B8%89%E5%A4%A9%E5%BE%8C%E5%88%AA%E9%99%A4%E9%80%80%E6%96%87\">搜尋同標題文章</a></div>\n",
      "<div class=\"item\"><a href=\"/bbs/NBA/search?q=author%3AVedan\">搜尋看板內 Vedan 的文章</a></div>\n",
      "</div>\n",
      "</div>\n",
      "<div class=\"date\"> 3/09</div>\n",
      "<div class=\"mark\">M</div>\n",
      "</div>\n",
      "</div>, <div class=\"r-ent\">\n",
      "<div class=\"nrec\"><span class=\"hl f1\">爆</span></div>\n",
      "<div class=\"title\">\n",
      "<a href=\"/bbs/NBA/M.1585848482.A.494.html\">[公告] 板務說明 (發錢)</a>\n",
      "</div>\n",
      "<div class=\"meta\">\n",
      "<div class=\"author\">Vedan</div>\n",
      "<div class=\"article-menu\">\n",
      "<div class=\"trigger\">⋯</div>\n",
      "<div class=\"dropdown\">\n",
      "<div class=\"item\"><a href=\"/bbs/NBA/search?q=thread%3A%5B%E5%85%AC%E5%91%8A%5D+%E6%9D%BF%E5%8B%99%E8%AA%AA%E6%98%8E+%28%E7%99%BC%E9%8C%A2%29\">搜尋同標題文章</a></div>\n",
      "<div class=\"item\"><a href=\"/bbs/NBA/search?q=author%3AVedan\">搜尋看板內 Vedan 的文章</a></div>\n",
      "</div>\n",
      "</div>\n",
      "<div class=\"date\"> 4/03</div>\n",
      "<div class=\"mark\">M</div>\n",
      "</div>\n",
      "</div>]\n"
     ]
    }
   ],
   "source": [
    "print(posts)"
   ]
  },
  {
   "cell_type": "code",
   "execution_count": 10,
   "metadata": {},
   "outputs": [
    {
     "name": "stdout",
     "output_type": "stream",
     "text": [
      "<class 'bs4.element.ResultSet'>\n"
     ]
    }
   ],
   "source": [
    "print(type(posts))"
   ]
  },
  {
   "cell_type": "code",
   "execution_count": 11,
   "metadata": {},
   "outputs": [],
   "source": [
    "#建立一個空list放置作者id"
   ]
  },
  {
   "cell_type": "code",
   "execution_count": 12,
   "metadata": {},
   "outputs": [
    {
     "name": "stdout",
     "output_type": "stream",
     "text": [
      "['-', 's106667', 'thnlkj0665', 'kidofking', 'kaikai1112', 'kaikai1112', 'Acetoxy', 'sampsonlu919', '-', 'sodistrues', 'thnlkj0665', 'shanyaochung', 'ChenWay', '-', 'melove1515', 'willy911006', 'pneumo', 'jackal44748', 'Leaflock', 'Vedan', 'qazwsx879345', 'Acetoxy', 'Vedan', 'Vedan']\n"
     ]
    }
   ],
   "source": [
    "author_ids = []\n",
    "#搜尋class name為r-ent的div集合\n",
    "posts = soup.find_all(\"div\",class_=\"r-ent\")\n",
    "\n",
    "#透過蝶袋方式一個個將author擷取回來\n",
    "for post in posts:\n",
    "    #.extend()加入資料集合到list尾端\n",
    "    author_ids.extend(post.find(\"div\",class_=\"author\"))\n",
    "print(author_ids)"
   ]
  },
  {
   "cell_type": "code",
   "execution_count": 13,
   "metadata": {},
   "outputs": [
    {
     "name": "stdout",
     "output_type": "stream",
     "text": [
      "[<title>看板 NBA 文章列表 - 批踢踢實業坊</title>]\n",
      "[<a href=\"/bbs/\" id=\"logo\">批踢踢實業坊</a>, <a class=\"board\" href=\"/bbs/NBA/index.html\"><span class=\"board-label\">看板 </span>NBA</a>, <a class=\"right small\" href=\"/about.html\">關於我們</a>, <a class=\"right small\" href=\"/contact.html\">聯絡資訊</a>, <a class=\"btn selected\" href=\"/bbs/NBA/index.html\">看板</a>, <a class=\"btn\" href=\"/man/NBA/index.html\">精華區</a>, <a class=\"btn wide\" href=\"/bbs/NBA/index1.html\">最舊</a>, <a class=\"btn wide\" href=\"/bbs/NBA/index6501.html\">‹ 上頁</a>, <a class=\"btn wide disabled\">下頁 ›</a>, <a class=\"btn wide\" href=\"/bbs/NBA/index.html\">最新</a>, <a href=\"/bbs/NBA/M.1595313583.A.5F8.html\">[新聞] 支持巴特勒 超過30名球員提球衣不印名字</a>, <a href=\"/bbs/NBA/search?q=thread%3A%5B%E6%96%B0%E8%81%9E%5D+%E6%94%AF%E6%8C%81%E5%B7%B4%E7%89%B9%E5%8B%92+%E8%B6%85%E9%81%8E30%E5%90%8D%E7%90%83%E5%93%A1%E6%8F%90%E7%90%83%E8%A1%A3%E4%B8%8D%E5%8D%B0%E5%90%8D%E5%AD%97\">搜尋同標題文章</a>, <a href=\"/bbs/NBA/search?q=author%3As106667\">搜尋看板內 s106667 的文章</a>, <a href=\"/bbs/NBA/M.1595318914.A.5F9.html\">[花邊] 駁復賽吃住條件差 亞當斯:我們可是住渡假村</a>, <a href=\"/bbs/NBA/search?q=thread%3A%5B%E8%8A%B1%E9%82%8A%5D+%E9%A7%81%E5%BE%A9%E8%B3%BD%E5%90%83%E4%BD%8F%E6%A2%9D%E4%BB%B6%E5%B7%AE+%E4%BA%9E%E7%95%B6%E6%96%AF%3A%E6%88%91%E5%80%91%E5%8F%AF%E6%98%AF%E4%BD%8F%E6%B8%A1%E5%81%87%E6%9D%91\">搜尋同標題文章</a>, <a href=\"/bbs/NBA/search?q=author%3Athnlkj0665\">搜尋看板內 thnlkj0665 的文章</a>, <a href=\"/bbs/NBA/M.1595319013.A.E92.html\">[新聞] LBJ:沒有一天不想kobe</a>, <a href=\"/bbs/NBA/search?q=thread%3A%5B%E6%96%B0%E8%81%9E%5D+LBJ%3A%E6%B2%92%E6%9C%89%E4%B8%80%E5%A4%A9%E4%B8%8D%E6%83%B3kobe\">搜尋同標題文章</a>, <a href=\"/bbs/NBA/search?q=author%3Akidofking\">搜尋看板內 kidofking 的文章</a>, <a href=\"/bbs/NBA/M.1595328758.A.141.html\">[情報] 復賽熱身混戰賽程(台灣時間)</a>, <a href=\"/bbs/NBA/search?q=thread%3A%5B%E6%83%85%E5%A0%B1%5D+%E5%BE%A9%E8%B3%BD%E7%86%B1%E8%BA%AB%E6%B7%B7%E6%88%B0%E8%B3%BD%E7%A8%8B%28%E5%8F%B0%E7%81%A3%E6%99%82%E9%96%93%29\">搜尋同標題文章</a>, <a href=\"/bbs/NBA/search?q=author%3Akaikai1112\">搜尋看板內 kaikai1112 的文章</a>, <a href=\"/bbs/NBA/M.1595330647.A.72A.html\">[新聞] 復賽種子賽賽程(台灣時間)</a>, <a href=\"/bbs/NBA/search?q=thread%3A%5B%E6%96%B0%E8%81%9E%5D+%E5%BE%A9%E8%B3%BD%E7%A8%AE%E5%AD%90%E8%B3%BD%E8%B3%BD%E7%A8%8B%28%E5%8F%B0%E7%81%A3%E6%99%82%E9%96%93%29\">搜尋同標題文章</a>, <a href=\"/bbs/NBA/search?q=author%3Akaikai1112\">搜尋看板內 kaikai1112 的文章</a>, <a href=\"/bbs/NBA/M.1595331822.A.562.html\">[情報] SEASON Schedule 賽程 July 19–20</a>, <a href=\"/bbs/NBA/search?q=thread%3A%5B%E6%83%85%E5%A0%B1%5D+SEASON+Schedule+%E8%B3%BD%E7%A8%8B+July+19%E2%80%9320\">搜尋同標題文章</a>, <a href=\"/bbs/NBA/search?q=author%3AAcetoxy\">搜尋看板內 Acetoxy 的文章</a>, <a href=\"/bbs/NBA/M.1595338367.A.15B.html\">[新聞] 染疫後回歸訓練 巫師布萊恩自認狀態不錯</a>, <a href=\"/bbs/NBA/search?q=thread%3A%5B%E6%96%B0%E8%81%9E%5D+%E6%9F%93%E7%96%AB%E5%BE%8C%E5%9B%9E%E6%AD%B8%E8%A8%93%E7%B7%B4+%E5%B7%AB%E5%B8%AB%E5%B8%83%E8%90%8A%E6%81%A9%E8%87%AA%E8%AA%8D%E7%8B%80%E6%85%8B%E4%B8%8D%E9%8C%AF\">搜尋同標題文章</a>, <a href=\"/bbs/NBA/search?q=author%3Asampsonlu919\">搜尋看板內 sampsonlu919 的文章</a>, <a href=\"/bbs/NBA/M.1595343473.A.4F2.html\">[新聞]球評讚現役最有天賦 隊友期待唐西奇季後</a>, <a href=\"/bbs/NBA/search?q=thread%3A%5B%E6%96%B0%E8%81%9E%5D%E7%90%83%E8%A9%95%E8%AE%9A%E7%8F%BE%E5%BD%B9%E6%9C%80%E6%9C%89%E5%A4%A9%E8%B3%A6+%E9%9A%8A%E5%8F%8B%E6%9C%9F%E5%BE%85%E5%94%90%E8%A5%BF%E5%A5%87%E5%AD%A3%E5%BE%8C\">搜尋同標題文章</a>, <a href=\"/bbs/NBA/search?q=author%3Asodistrues\">搜尋看板內 sodistrues 的文章</a>, <a href=\"/bbs/NBA/M.1595346733.A.686.html\">[情報] 老鷹隊 公布2020-21年賽季新球衣</a>, <a href=\"/bbs/NBA/search?q=thread%3A%5B%E6%83%85%E5%A0%B1%5D+%E8%80%81%E9%B7%B9%E9%9A%8A+%E5%85%AC%E5%B8%832020-21%E5%B9%B4%E8%B3%BD%E5%AD%A3%E6%96%B0%E7%90%83%E8%A1%A3\">搜尋同標題文章</a>, <a href=\"/bbs/NBA/search?q=author%3Athnlkj0665\">搜尋看板內 thnlkj0665 的文章</a>, <a href=\"/bbs/NBA/M.1595347433.A.BE4.html\">[情報] 緯來 07/23~07/26 NBA復賽熱身賽轉播表</a>, <a href=\"/bbs/NBA/search?q=thread%3A%5B%E6%83%85%E5%A0%B1%5D+%E7%B7%AF%E4%BE%86+07%2F23~07%2F26+NBA%E5%BE%A9%E8%B3%BD%E7%86%B1%E8%BA%AB%E8%B3%BD%E8%BD%89%E6%92%AD%E8%A1%A8\">搜尋同標題文章</a>, <a href=\"/bbs/NBA/search?q=author%3Ashanyaochung\">搜尋看板內 shanyaochung 的文章</a>, <a href=\"/bbs/NBA/M.1595347933.A.CBE.html\">[情報] Popovich發表對COVID-19的看法</a>, <a href=\"/bbs/NBA/search?q=thread%3A%5B%E6%83%85%E5%A0%B1%5D+Popovich%E7%99%BC%E8%A1%A8%E5%B0%8DCOVID-19%E7%9A%84%E7%9C%8B%E6%B3%95\">搜尋同標題文章</a>, <a href=\"/bbs/NBA/search?q=author%3AChenWay\">搜尋看板內 ChenWay 的文章</a>, <a href=\"/bbs/NBA/M.1595357768.A.9DF.html\">[情報] Winslow賽季報銷</a>, <a href=\"/bbs/NBA/search?q=thread%3A%5B%E6%83%85%E5%A0%B1%5D+Winslow%E8%B3%BD%E5%AD%A3%E5%A0%B1%E9%8A%B7\">搜尋同標題文章</a>, <a href=\"/bbs/NBA/search?q=author%3Amelove1515\">搜尋看板內 melove1515 的文章</a>, <a href=\"/bbs/NBA/M.1595378979.A.9AA.html\">[情報] Marvin Bagley 賽季報銷</a>, <a href=\"/bbs/NBA/search?q=thread%3A%5B%E6%83%85%E5%A0%B1%5D+Marvin+Bagley+%E8%B3%BD%E5%AD%A3%E5%A0%B1%E9%8A%B7\">搜尋同標題文章</a>, <a href=\"/bbs/NBA/search?q=author%3Awilly911006\">搜尋看板內 willy911006 的文章</a>, <a href=\"/bbs/NBA/M.1595380995.A.06E.html\">[情報] KG跟其他投資人有興趣競標灰狼</a>, <a href=\"/bbs/NBA/search?q=thread%3A%5B%E6%83%85%E5%A0%B1%5D+KG%E8%B7%9F%E5%85%B6%E4%BB%96%E6%8A%95%E8%B3%87%E4%BA%BA%E6%9C%89%E8%88%88%E8%B6%A3%E7%AB%B6%E6%A8%99%E7%81%B0%E7%8B%BC\">搜尋同標題文章</a>, <a href=\"/bbs/NBA/search?q=author%3Apneumo\">搜尋看板內 pneumo 的文章</a>, <a href=\"/bbs/NBA/M.1595382334.A.A0B.html\">[情報] Beverley離開奧蘭多</a>, <a href=\"/bbs/NBA/search?q=thread%3A%5B%E6%83%85%E5%A0%B1%5D+Beverley%E9%9B%A2%E9%96%8B%E5%A5%A7%E8%98%AD%E5%A4%9A\">搜尋同標題文章</a>, <a href=\"/bbs/NBA/search?q=author%3Ajackal44748\">搜尋看板內 jackal44748 的文章</a>, <a href=\"/bbs/NBA/M.1595382462.A.88F.html\">Re: [情報] KG跟其他投資人有興趣競標灰狼</a>, <a href=\"/bbs/NBA/search?q=thread%3A%5B%E6%83%85%E5%A0%B1%5D+KG%E8%B7%9F%E5%85%B6%E4%BB%96%E6%8A%95%E8%B3%87%E4%BA%BA%E6%9C%89%E8%88%88%E8%B6%A3%E7%AB%B6%E6%A8%99%E7%81%B0%E7%8B%BC\">搜尋同標題文章</a>, <a href=\"/bbs/NBA/search?q=author%3ALeaflock\">搜尋看板內 Leaflock 的文章</a>, <a href=\"/bbs/NBA/M.1558698194.A.1DC.html\">[公告] 板規v6.8</a>, <a href=\"/bbs/NBA/search?q=thread%3A%5B%E5%85%AC%E5%91%8A%5D+%E6%9D%BF%E8%A6%8Fv6.8\">搜尋同標題文章</a>, <a href=\"/bbs/NBA/search?q=author%3AVedan\">搜尋看板內 Vedan 的文章</a>, <a href=\"/bbs/NBA/M.1571971445.A.8A8.html\">[公告] 版主上任相關事項 </a>, <a href=\"/bbs/NBA/search?q=thread%3A%5B%E5%85%AC%E5%91%8A%5D+%E7%89%88%E4%B8%BB%E4%B8%8A%E4%BB%BB%E7%9B%B8%E9%97%9C%E4%BA%8B%E9%A0%85+\">搜尋同標題文章</a>, <a href=\"/bbs/NBA/search?q=author%3Aqazwsx879345\">搜尋看板內 qazwsx879345 的文章</a>, <a href=\"/bbs/NBA/M.1583083184.A.C4D.html\">[情報] SEASON Schedule 賽程 March 19–20</a>, <a href=\"/bbs/NBA/search?q=thread%3A%5B%E6%83%85%E5%A0%B1%5D+SEASON+Schedule+%E8%B3%BD%E7%A8%8B+March+19%E2%80%9320\">搜尋同標題文章</a>, <a href=\"/bbs/NBA/search?q=author%3AAcetoxy\">搜尋看板內 Acetoxy 的文章</a>, <a href=\"/bbs/NBA/M.1583725468.A.281.html\">[公告] 第一次被退文，可在三天後刪除退文</a>, <a href=\"/bbs/NBA/search?q=thread%3A%5B%E5%85%AC%E5%91%8A%5D+%E7%AC%AC%E4%B8%80%E6%AC%A1%E8%A2%AB%E9%80%80%E6%96%87%EF%BC%8C%E5%8F%AF%E5%9C%A8%E4%B8%89%E5%A4%A9%E5%BE%8C%E5%88%AA%E9%99%A4%E9%80%80%E6%96%87\">搜尋同標題文章</a>, <a href=\"/bbs/NBA/search?q=author%3AVedan\">搜尋看板內 Vedan 的文章</a>, <a href=\"/bbs/NBA/M.1585848482.A.494.html\">[公告] 板務說明 (發錢)</a>, <a href=\"/bbs/NBA/search?q=thread%3A%5B%E5%85%AC%E5%91%8A%5D+%E6%9D%BF%E5%8B%99%E8%AA%AA%E6%98%8E+%28%E7%99%BC%E9%8C%A2%29\">搜尋同標題文章</a>, <a href=\"/bbs/NBA/search?q=author%3AVedan\">搜尋看板內 Vedan 的文章</a>]\n"
     ]
    }
   ],
   "source": [
    "#輸出title\n",
    "print(soup.select('title'))\n",
    "\n",
    "#輸出a\n",
    "print(soup.select('a'))"
   ]
  },
  {
   "cell_type": "code",
   "execution_count": 14,
   "metadata": {},
   "outputs": [
    {
     "name": "stdout",
     "output_type": "stream",
     "text": [
      "[<a class=\"board\" href=\"/bbs/NBA/index.html\"><span class=\"board-label\">看板 </span>NBA</a>]\n",
      "[<a href=\"/bbs/\" id=\"logo\">批踢踢實業坊</a>]\n"
     ]
    }
   ],
   "source": [
    "# 透過 class 名稱取得元素\n",
    "print(soup.select(\"a.board\"))\n",
    "# 透過 id 名稱取得元素\n",
    "print(soup.select(\"#logo\"))"
   ]
  },
  {
   "cell_type": "code",
   "execution_count": 15,
   "metadata": {},
   "outputs": [
    {
     "name": "stdout",
     "output_type": "stream",
     "text": [
      "[<a class=\"btn wide\" href=\"/bbs/NBA/index1.html\">最舊</a>, <a class=\"btn wide\" href=\"/bbs/NBA/index6501.html\">‹ 上頁</a>, <a class=\"btn wide\" href=\"/bbs/NBA/index.html\">最新</a>]\n"
     ]
    }
   ],
   "source": [
    "# 透過 attribute 取得元素\n",
    "print(soup.select('a[class=\"btn wide\"]'))"
   ]
  },
  {
   "cell_type": "code",
   "execution_count": 19,
   "metadata": {},
   "outputs": [
    {
     "name": "stdout",
     "output_type": "stream",
     "text": [
      "看板 NBA 文章列表 - 批踢踢實業坊\n"
     ]
    }
   ],
   "source": [
    "#匯入module\n",
    "from bs4 import BeautifulSoup\n",
    "import requests as rqs\n",
    "\n",
    "url = \"https://www.ptt.cc/bbs/NBA/index.html\"\n",
    "\n",
    "#用request的get方法將網頁抓下來\n",
    "respon = rqs.get(url)\n",
    "#text就是html檔案\n",
    "html_doc = respon.text\n",
    "\n",
    "#指定lxml作為解析器\n",
    "soup = BeautifulSoup(html_doc,\"lxml\")\n",
    "\n",
    "#取得單一節點的文字內容\n",
    "print(soup.select('title')[0].get_text())"
   ]
  },
  {
   "cell_type": "code",
   "execution_count": 20,
   "metadata": {},
   "outputs": [
    {
     "name": "stdout",
     "output_type": "stream",
     "text": [
      "批踢踢實業坊\n",
      "看板 NBA\n",
      "關於我們\n",
      "聯絡資訊\n",
      "看板\n",
      "精華區\n",
      "最舊\n",
      "‹ 上頁\n",
      "下頁 ›\n",
      "最新\n",
      "[新聞] 支持巴特勒 超過30名球員提球衣不印名字\n",
      "搜尋同標題文章\n",
      "搜尋看板內 s106667 的文章\n",
      "[花邊] 駁復賽吃住條件差 亞當斯:我們可是住渡假村\n",
      "搜尋同標題文章\n",
      "搜尋看板內 thnlkj0665 的文章\n",
      "[新聞] LBJ:沒有一天不想kobe\n",
      "搜尋同標題文章\n",
      "搜尋看板內 kidofking 的文章\n",
      "[情報] 復賽熱身混戰賽程(台灣時間)\n",
      "搜尋同標題文章\n",
      "搜尋看板內 kaikai1112 的文章\n",
      "[新聞] 復賽種子賽賽程(台灣時間)\n",
      "搜尋同標題文章\n",
      "搜尋看板內 kaikai1112 的文章\n",
      "[情報] SEASON Schedule 賽程 July 19–20\n",
      "搜尋同標題文章\n",
      "搜尋看板內 Acetoxy 的文章\n",
      "[新聞] 染疫後回歸訓練 巫師布萊恩自認狀態不錯\n",
      "搜尋同標題文章\n",
      "搜尋看板內 sampsonlu919 的文章\n",
      "[新聞]球評讚現役最有天賦 隊友期待唐西奇季後\n",
      "搜尋同標題文章\n",
      "搜尋看板內 sodistrues 的文章\n",
      "[情報] 老鷹隊 公布2020-21年賽季新球衣\n",
      "搜尋同標題文章\n",
      "搜尋看板內 thnlkj0665 的文章\n",
      "[情報] 緯來 07/23~07/26 NBA復賽熱身賽轉播表\n",
      "搜尋同標題文章\n",
      "搜尋看板內 shanyaochung 的文章\n",
      "[情報] Popovich發表對COVID-19的看法\n",
      "搜尋同標題文章\n",
      "搜尋看板內 ChenWay 的文章\n",
      "[情報] Winslow賽季報銷\n",
      "搜尋同標題文章\n",
      "搜尋看板內 melove1515 的文章\n",
      "[情報] Marvin Bagley 賽季報銷\n",
      "搜尋同標題文章\n",
      "搜尋看板內 willy911006 的文章\n",
      "[情報] KG跟其他投資人有興趣競標灰狼\n",
      "搜尋同標題文章\n",
      "搜尋看板內 pneumo 的文章\n",
      "[情報] Beverley離開奧蘭多\n",
      "搜尋同標題文章\n",
      "搜尋看板內 jackal44748 的文章\n",
      "Re: [情報] KG跟其他投資人有興趣競標灰狼\n",
      "搜尋同標題文章\n",
      "搜尋看板內 Leaflock 的文章\n",
      "[公告] 板規v6.8\n",
      "搜尋同標題文章\n",
      "搜尋看板內 Vedan 的文章\n",
      "[公告] 版主上任相關事項 \n",
      "搜尋同標題文章\n",
      "搜尋看板內 qazwsx879345 的文章\n",
      "[情報] SEASON Schedule 賽程 March 19–20\n",
      "搜尋同標題文章\n",
      "搜尋看板內 Acetoxy 的文章\n",
      "[公告] 第一次被退文，可在三天後刪除退文\n",
      "搜尋同標題文章\n",
      "搜尋看板內 Vedan 的文章\n",
      "[公告] 板務說明 (發錢)\n",
      "搜尋同標題文章\n",
      "搜尋看板內 Vedan 的文章\n"
     ]
    }
   ],
   "source": [
    "#取得透過蝶代的a文字內容\n",
    "for a in soup.select('a'):\n",
    "    print(a.get_text())"
   ]
  },
  {
   "cell_type": "code",
   "execution_count": 21,
   "metadata": {},
   "outputs": [
    {
     "name": "stdout",
     "output_type": "stream",
     "text": [
      "<class 'requests.models.Response'>\n"
     ]
    }
   ],
   "source": [
    "response = requests.get(url)\n",
    "print(type(response))"
   ]
  },
  {
   "cell_type": "code",
   "execution_count": 22,
   "metadata": {},
   "outputs": [
    {
     "data": {
      "text/plain": [
       "200"
      ]
     },
     "execution_count": 22,
     "metadata": {},
     "output_type": "execute_result"
    }
   ],
   "source": [
    "response.status_code"
   ]
  },
  {
   "cell_type": "code",
   "execution_count": 23,
   "metadata": {},
   "outputs": [
    {
     "name": "stdout",
     "output_type": "stream",
     "text": [
      "資策會聯手彰化縣推科技反毒！新科技反毒行動巡迴車開跑\n",
      "宅生活發威！VR虛擬博物館為疫情寒冬帶來正能量\n",
      "新冠擋不了! 跨國怎麼學AI? 研華科技與資策會共辦「臺泰AI學院」\n",
      "全民防疫E起來 臺灣智慧學習產業鏈不缺席\n",
      "防疫假學習不打烊！資策會提供線上學習程式大平台\n",
      "自二月一日起，停止各地PearsonVUE及Kryterion授權考試中心業務\n",
      "「銀髮輕鬆煮，健康樂活吃」  喚醒銀髮族的美食記憶\n",
      "數位浪潮來襲，企業轉型首重投資人才    資策會攜手美國ATD舉辦亞太區最大學習發展與人才培訓年會\n",
      "推動文化科技體驗新經濟 催生文化科技種子基金\n",
      "颱風天上課  注意事項\n"
     ]
    }
   ],
   "source": [
    "from bs4 import BeautifulSoup\n",
    "import requests as rqs\n",
    "\n",
    "url = \"https://www.iiiedu.org.tw/category/news/\"\n",
    "respon = rqs.get(url)\n",
    "html_doc = respon.text\n",
    "\n",
    "soup = BeautifulSoup(html_doc, \"lxml\")\n",
    "\n",
    "#取得a的文字\n",
    "for a in soup.select('article div.entry-content header.entry-header h2.entry-title a'):\n",
    "    print(a.get_text())"
   ]
  },
  {
   "cell_type": "code",
   "execution_count": 27,
   "metadata": {},
   "outputs": [
    {
     "name": "stdout",
     "output_type": "stream",
     "text": [
      "None\n"
     ]
    }
   ],
   "source": [
    "list_news = []\n",
    "\n",
    "for a in soup.select('article div.entry-content header.entry-header h2.entry-title a'):\n",
    "    c = list_news.append(a['href'])\n",
    "print(c)"
   ]
  },
  {
   "cell_type": "code",
   "execution_count": 28,
   "metadata": {},
   "outputs": [
    {
     "name": "stdout",
     "output_type": "stream",
     "text": [
      "近年來毒品花招百出，反毒行動刻不容緩！彰化縣政府攜手中華商道發展協會、鹿港東區扶輪社，並與財團法人資訊工業策進會(資策會)合作，於今(28)日正式啟用「反毒行動巡迴車」，藉由VR、體感等互動科技，加深民眾的反毒意識，現場也邀請彰化縣春暉志工團助陣，演出反毒年度大戲，炒熱現場氣氛。彰化縣政府致力推廣反毒教育，特別與資策會合作，結合科技互動體驗，開發「反毒行動巡迴車」，運用VR裝置及360度全景攝影等技術，開發反毒情境式互動影片「藥命關頭」，以沉浸式的體驗，讓民眾自由選擇故事走向，另類預防宣導及法治教育，引起民眾駐足圍觀。另一項體感科技結合運動偵測裝置，打造體感互動遊戲「即刻攻毒」，民眾化身成為弓箭手，射擊出現在眼前的各類毒品，還可以與夥伴比拚打擊毒品的速度與能力，用遊戲快速認識毒品的可怕，並鼓勵民眾成為打擊毒品的高手。趣味的互動科技遊戲正是「反毒行動巡迴車」一大亮點，車體也用生動的圖文呈現百毒不侵的拒毒八招，不僅能讓民眾辨識千變萬化的毒品，也了解吸毒的代價。彰化縣長王惠美也開心表示，首次結合「反毒」、「行動」、「科技」打造出第一部「反毒行動巡迴車」，感謝各界的鼎力支持，以及對反毒工作的肯定，這次公私協力，更將彰化縣的反毒教育推向新的里程碑。資策會數位教育研究所(教研所)主任張育誠則提到，新冠肺炎按下世界的PAUSE鍵，加速數位科技從根本改變生活型態，而資策會做為各界數位轉型的化育者，要讓每個人在創新技術中受益。這次與彰化縣府合作，積極推動創新科技融入反毒教育的模式，期待能持續複製這樣的模式，讓反毒行動集結成一股更有溫暖、更有支撐的社會力量。圖說：今(28)日彰化縣政府舉辦反毒行動巡迴車啟用典禮，圖為彰化縣縣長王惠美(左)致贈資策會感謝狀，由資策會教研所主任張育誠(右)代表領獎。圖說：今(28)日彰化縣政府舉辦反毒行動巡迴車啟用典禮，蒞臨現場的嘉賓齊聚一堂，開心合影。圖說：今(28)日彰化縣政府舉辦反毒行動巡迴車啟用典禮，彰化縣縣長王惠美體驗反毒體感互動遊戲「即刻攻毒」，化身成為弓箭手，擊潰出現在眼前的各類毒品。【新聞聯絡人】資策會教研所吳逸安組長Tel: (02) 6631-6696ea@iii.org.tw 蘇婉茹Tel: (02) 6631-6698wanrusu@iii.org.tw資策會企推處顏瑄組長Tel: (02) 6631-8635joyyen@iii.org.tw  沈盈吟Tel: (02) 6631-8643yingshen@iii.org.tw\n",
      "新冠病毒衝擊全球，「宅生活」也由此因運而生，為一掃低迷的社會氛圍，國立臺灣工藝研究發展中心（工藝中心）與財團法人資訊工業策進會（資策會）攜手合作，並獲鴻海集團旗下鴻圖股份有限公司大力支持，共同策展線上虛擬博物館，即日起拿起手機就能一覽知名工藝家謝嘉亨「經典世代—陶瓷創作展」，讓民眾在家也能透過VR動態導覽，體驗藝術之美。全球第一個運用陶瓷技法表現蒸汽火車的藝術家謝嘉亨，運用閃光釉創作交通經典系列作品，備受國內外讚譽，此次將作品結合3D VR動態實境體驗模式，讓民眾超越時空限制，透過手機彷彿走入博物館，盡情賞玩頂尖的工藝品。為創造身歷其境的體驗，謝嘉亨化身為線上專屬領路人，帶領觀眾漫步在鐵道史詩中，回顧臺灣人共同的記憶，為疫情寒冬帶來撫慰人心的正能量。線上博物館展覽內容豐富，除了陶瓷創作外，這次加碼展出第四屆TJDMA國際珠寶金工設計競賽展獲獎作品，以VR動態微觀的技術，讓民眾細細品味精巧的金工創作，透過藝術活動陶冶心性。工藝中心許耿修主任表示，民眾積極配合防疫政策，因而大幅降低出入公共場所，為持續將藝術美感融入大眾生活，博物館可以主動出擊，與資策會合作，利用3D動態環景及VR技術，創造一個現場與雲端無縫的文化體驗空間，用全新的型態，進入每個人的生活。資策會教研所蔡義昌所長指出，文化感動能夠舒緩疫情帶來的壓力，我們期許資策會成為文化界的後盾，整合業界資源和技術，與臺灣共體時艱，走出疫情的困境；下一個階段，我們將從人文視野的角度出發，協助文化演藝團體，導入適性的文化科技，全面升級表演的內容及形式，把感動和溫度持續傳遞出去。我國超前部署的防疫精神，同樣落實在5G與新科技的布局之上，資策會將持續與工藝中心合作新科技的文化應用，透過科技激發文化內容的多元創新，加速文化科技跨界系統整合與創新。謝嘉亨「經典世代—陶瓷創作展」與「第四屆TJDMA國際珠寶金工設計競賽展」3D VR實境動態展廳，即日起開放民眾參觀，線上展廳網址：https://vm.iiiedu.org.tw。圖說：工藝中心與資策會攜手合作，運用3D VR動態實境技術，展出工藝中心｢經典世代—陶瓷創作展」，宅在家也能親身體驗大師作品。圖說：資策會運用VR動態微觀環景技術，讓民眾走入虛擬博物館，體驗栩栩如生的珠寶金工設計作品。【新聞聯絡人】資策會教研所陳炳男組長Tel: (02)6631-6629safin@iii.org.tw 蘇婉茹Tel: (02)6631-6698wanrusu@iii.org.tw資策會企推處顏瑄組長Tel: (02) 6631-8635joyyen@iii.org.tw  沈盈吟Tel: (02) 6631-8643yingshen@iii.org.tw \n",
      "泰國一直是臺商南向布局之首選據點，配合政府新南向政策，並呼應泰國政府積極推動的「泰國4.0」(Thailand 4.0)計畫，由駐泰代表處、泰國數位經濟發展局及經濟部工業局指導，資策會數位教育研究所(教研所)與研華科技攜手，在3月16日於泰國共同成立「臺泰人工智慧學院」，將培訓泰國當地關鍵人工智慧人才，進一步協助泰國臺商企業數位轉型需求。「臺泰人工智慧學院」(臺泰AI學院)為經濟部工業局輔導資策會教研所，執行AI智慧應用新世代人才培育(AIGO)計畫，提供人工智慧領域專業師資及創新課程，由泰國研華科技於當地招收具AI需求的產業及高階主管，首次開班30人卻吸引超過600人報名。為期兩個月共30個小時的AI課程，內容包含智慧醫療、智慧製造、智慧金融、智慧零售、智慧農業、教育等各種應用領域。資策會教研所蔡義昌所長表示，「臺泰AI學院」打破過去傳統教授模式，運用直播技術傳授課程，透過AI趨勢案例的解析，再加上學員線上的即時操作，輔以活潑的師生互動問答、小測驗等方式，讓跨國線上學習更加生動有趣。課程更透過資策會教研所《CoreLab》平臺進行體驗實作，在臺灣講師帶領下逐步學習體驗，學員透過做中學、學中做的方式進一步學習AI知識。資策會教研所以培養數位人才核心技能為初衷，創建學習平臺《CoreLab》，營造動手做的學習環境，提供學習過程中所有歷程報表讓講師、學員全程掌握學習狀況。近年更因應產業中AI人才新需求大增，《CoreLab》除提供免費多樣趣味的課程外，此次更透過《臺泰AI學院》跨國合作，讓學習不因新冠肺炎疫情與空間阻隔受到影響，持續培育國際AI人才。【新聞聯絡人】資策會教研所曾筱倩組長Tel: (02) 6631-6762             hctseng@iii.org.tw 張愛絹組長Tel: (02) 6631-6739ivyacchang@iii.org.tw資策會企推處顏瑄組長Tel: (02) 6631-8635joyyen@iii.org.tw  沈盈吟Tel: (02) 6631-8643yingshen@iii.org.tw\n",
      "為預防新型冠狀肺炎疫情擴大，經濟部工業局輔導的智慧學習產業整合輸出計畫(智慧學習計畫)執行團隊迅速匯集臺灣智慧學習產業軟、硬體超過50家業者提供數位學習、影音資源(https://reurl.cc/nVkeNv)，上架於資策會數位教育研究所(教研所)開發的《I3EDU》Youtube頻道，設立【防疫E起來】企業響應專區，課程服務年齡從幼稚園到中學(K12)、在職進修、銀髮族等，提供給各年齡層民眾在家自學，讓智慧學習成為教育的防護罩。為響應經濟部工業局呂正華局長於2019 Smart City 智慧教育展中宣讀第一屆的臺北宣言：「創造優質教育環境、開啟創新思考能力、發展未來科技應用、力求世代數位轉型，爲地球的永續盡一份心力。」【防疫E起來】企業響應專區提供24小時零時差、零距離的教學環境，善用共學、共創、共享的學習優勢，讓疫情期間不會成為學習的絆腳石。【防疫E起來】企業響應專區包括教學教材、外語學習、培訓認證、遠距直播/錄播及數位課程、行動學習等豐富內容；另有軟體業者釋出多支學習平台、工具系統、行政管理系統、線上聊天室、線上學習評分與診斷式分析報告影片；以及硬體業者提供智慧校園、智慧教室強大硬體後盾介紹，甚至有通過美國FDA認證抗疫防毒設備與對抗病毒消毒利器等，讓民眾更加安心。智慧學習計畫主持人暨資策會教研所蔡義昌所長表示，防疫期間，智慧學習是教育的口罩，臺灣智慧學習產業鏈在防疫工作中沒有缺席，面臨數位轉型世代，永續教育是我們教育的願景。民眾除了到24小時專屬學習放送站【防疫E起來】專區，線上觀看教學內容，還可至教育創新平台，透過直播課程，學習更多智慧教育課程。圖：【防疫E起來】企業響應專區服務清單《I3EDU》【防疫E起來】企業響應專區：https://reurl.cc/b60REy教育創新平台：https://www.programmyschool.org/ 【新聞聯絡人】資策會教研所莊芳甄主任Tel: (02) 6631-6721nonochuang@iii.org.tw 王嬿茵組長Tel: (02) 6631-6737yenyinwang@iii.org.tw資策會企推處顏瑄組長Tel: (02) 6631-8635joyyen@iii.org.tw  沈盈吟Tel: (02) 6631-8643yingshen@iii.org.tw\n",
      "武漢肺炎疫情升溫、開學延後，許多家長為了學生的功課進度擔心不已，為不耽誤學習計畫，資策會數位教育研究所(教研所) 推出《CoreLab》線上平台、Youtube頻道《I3EDU》，免費提供國中小、高中、大專校院學生線上多元課程，學生可以透過直播共學與線上自學，解決學習空窗期，在家防疫期間，也能完整學習不打烊。資策會教研所致力培育人才，彙整資訊與通信科技(ICT)課程，以培養數位人才核心技能為初衷，創建全國學生學習平台《CoreLab》，營造動手做的學習環境。此次為協助解決防疫期間學習問題，資策會釋出熱門課程，推出Python、Java程式設計等多元趣味的線上課程，免費提供高中以上、大專校院學生線上自學，課程優先給偏鄉及數位學習資源較不足的學校師生申請。《CoreLab》線上平台操作簡單，進入網站申請帳號，即可點選「公開班」輕鬆學習，也可透過學校、安親班老師幫學生們提出「自開班」申請，邀請熟識同學一同線上共學，提高學習效率。最特別的是，在《CoreLab》線上課程修習完成後，資策會教研所將提供學習過程中所有歷程報表，包含學習時數、測驗成績、實作成果與其他班級成績比較等資料，讓老師及家長們即時掌握學生學習的狀況。未來開學後，可以無縫銜接學校的教學，同時可作為學生在資訊領域的學習證明。而近年來直播當道，資策會Youtube頻道《I3EDU》此次為因應防疫，首度改以直播方式進行，提供運算思維知識概論、動手做Unity、認識動畫原理、Scratch工作坊等一連串活潑課程，節目內容適合5年級以上小朋友學習，未來將推出更豐富的數位轉型、英文、新住民語等新知與課程，讓學習不因空間阻隔受到影響，學習不打烊。《CoreLab》線上平台(適國高中與大專院校學生)：https://corelab.iiiedu.org.tw/vclass《I3EDU》Youtube：https://www.youtube.com/channel/UC4Wx92YOUi4WIIqNI0x4QXg【新聞聯絡人】資策會教研所張愛絹組長Tel: (02) 6631-6739ivyacchang@iii.org.tw資策會企推處顏瑄組長Tel: (02) 6631-8635joyyen@iii.org.tw  沈盈吟Tel: (02) 6631-8643yingshen@iii.org.tw\n",
      "2020年2月1日起，資策會數位教育研究所將停止運行PearsonVUE及Kryterion授權考試中心。本所將不再受理考試相關業務 (如報名、報到、應考等) ，特此通知。已報名一月份考試者，仍請依預約時間及地點前往考試。相關訊息洽詢，請電 (02)6631-6599 呂小姐。\n",
      " 由經濟部中小企業處社會創新實驗中心、財團法人資訊工業策進會(資策會)、綠野農莊共同合作的「銀髮輕鬆煮，健康樂活吃」活動，於12月3日(二)在社會創新實驗中心辦理年度壓軸課程。隨著時序進入冬季，銀髮輕鬆煮系列課程進入最後的高潮，這次與料理科學達人史達魯共同邀請銀髮族一起來參加，以「冬季防護性飲食」為主題，用特色冬季養生保健食材入菜，包含油甘子、檸檬醬及特色防嗆咳調酒等，讓長輩們在寒冷的冬天，也能吃的養生、創意又美味! 台灣每7人中就有1位是老人，平均壽命80.4歲，而以今天參加現場活動的平均65歲長者來說，至少都有15年以上的冬藏歲月。這些屆齡退休的長者們，告別規律上下班的職場，容易出現被社會遺棄的失落感而不再規律生活型態，「吃」變隨便了，而不重視吃的結果，就是營養失衡的開始。「綠野農莊」品牌的雞肉產品遍及全聯和大潤發，以精緻的分切分裝，結合廚師、營養專家、醫療專家，一起為銀髮族的均衡營養，找到更多「銀髮輕鬆煮，健康樂活吃」的方法，以「一起學習，一起健康」的理念，喚醒銀髮朋友們的美食記憶。 社會創新實驗中心與綠野農莊及資策會自去(107)年合作銀髮廚藝課程，除持續推廣新鮮的雞肉食材外，今年度更配合四季時令，搭配新鮮蔬果以及養生食材，製作最健康又美味的料理，不但強調食「當季」的概念，更讓長輩們在飲食的選擇上找到新的出路。每場廚藝課程場場爆滿，一位難求，看出長輩們對於美食的憧憬，也增進了老夫老妻的餐桌樂趣，一起健康有活力。圖說：今(3)日資策會、綠野農莊共同辦理「銀髮輕鬆煮，健康樂活吃」活動，邀請史達魯廚師(左1)與學員們熱情互動，共同追求創意樂活好滋味。圖說：由經濟部中小企業處社會創新實驗中心、資策會、綠野農莊共同合作的「銀髮輕鬆煮，健康樂活吃」活動，今(3)日在社會創新實驗中心辦理年度壓軸課程。圖為銀髮長輩、資策會代表、史達魯廚師、HANK廚師共同合影。【新聞聯絡人】資策會教研所楊欣燕組長Tel: (02) 6631-5055分機263dorayang@iii.org.tw蕭睿緒Tel: (02) 6631-5055分機261russellhsiao@iii.org.tw資策會企推處顏瑄組長Tel: (02) 6631-8635joyyen@iii.org.tw 沈盈吟Tel: (02) 6631-8643yingshen@iii.org.tw\n",
      "數位轉型在各行業間蔚為趨勢，企業組織在市場需求百變的年代，能駕馭這波浪潮將成為下個10年興衰的關鍵。2019年資策會再度攜手美國ATD(Association for Talent Development)人才發展協會，並與美國在台協會AIT(American Institute in Taiwan)共同推動人才循環大聯盟(TCA：Talent Circulation Alliance)，以「數位當道。人才轉型」為主題，於11月5-6日在南港展覽館二館7樓，舉辦亞太地區企業學習發展與人才培訓最大規模盛會「第8屆ATD亞太年會」。陳建仁副總統於開幕時表示，樂見國內外公私部門領袖齊聚，並高度重視勞動力在數位時代的挑戰，今與會公部門代表有行政院吳政忠政委、龔明鑫政委及經濟部沈榮津部長等；大會開幕講者則由台積電創辦人張忠謀先生擔任，以自身帶領台灣品牌成為國際企業之思維與人資規劃策略，鼓勵企業正面迎向數位化帶來的轉機與可能。回應企業與人才之需求，第8屆ATD亞太年會擴大規模，有3 個主題演講、30 個場次以上專題分享，涵蓋9 大趨勢如：企業文化創建、學習評估分析、領導力發展、技術創新及預測未來關鍵人才等，邀請來自美國、日、韓、泰國、科威特、芬蘭等世界各地菁英齊聚，探討數據經濟之下，人才和企業變革的未來趨勢。除部分演講場次開放自由入座外，年會期間可免費參加2大展覽區，有近50 個國內外企業單位，展出最新產品服務、工具資源及人培技術等。主辦單位資策會數位教育研究所更邀請超過 30 家以上知名廠商於現場進行人才媒合，預估2天將有超過 1,500 位與會。本屆參展廠商數及參加人數皆比2018年增加一倍以上，足見企業急覓人才、渴求轉型解方，而人才也更願意投資自己。明(6)日還有一天展期，歡迎大家一同來關心數位當道浪潮下，亞太地區的企業組織，對外如何快速因應而能與世界各國並驅爭先,；對內又能如何不斷創新及提升培訓新技能，跟上改變腳步，為自己創造更優質的未來。相關資訊請參考官網https://www.atdapc.org.tw/。圖說：今(5)日陳建仁副總統獲邀出席「第8屆ATD亞太年會」，並於會中表示台美兩國係透過雙向交流與精通數位科技人才互動，結為重要貿易夥伴。圖說：「第8屆ATD亞太年會」今(5)日登場，圖為台積電創辦人張忠謀先生發表專題演講，以自身在美求學與工作的經歷，鼓勵企業與人才開拓國際觀。圖說：資策會再度攜手美國ATD與AIT共同推動人才循環大聯盟，並於今(5)日舉辦「第8屆ATD亞太年會」，特別邀請AIT酈英傑處長(右11)、ATD副總裁Tim Ito(右7)、經濟部沈榮津部長(右8)、資策會李世光董事長(右6)、陳建仁副總統(右10)、台積電創辦人張忠謀先生(右9)及與會貴賓揭開活動序幕。【新聞聯絡人】資策會教研所 張愛絹組長 Tel: (02) 6631-6739  ivyacchang@iii.org.tw                            林嘉純經理 Tel: (02) 6631-6719 chiachunlin@iii.org.tw資策會企推處 顏瑄組長 Tel: (02) 6631-8635 joyyen@iii.org.tw                           沈盈吟 Tel: (02) 6631-8643 yingshen@iii.org.tw\n",
      " 「文化科技發展聯盟」鼓勵文化科技創新應用，協助產業升級轉型的產業共創共利平台，10月2日文化科技發展聯盟舉辦「文化內容與顯示科技策略座談會」，由聯盟召集人施振榮董事長主持，邀集顯示科技、文化內容、文化科技等產業代表，希望能在文化科技體驗經濟趨勢下，掌握台灣的市場機會，並促進跨界投資合作。本次座談會先由文化科技體驗經濟的市場與應用角度出發，探討持續性商業模式的發展，需垂直整合場域、內容、裝置等產業鏈，促成落地化的跨域結盟，再由後續的分潤共利產生持續性的經營；後續再探討共創環境的建構，包含跨界合作、人才培育、應用研發等。最後並由產業代表們共同提出，希望政府能協助推動的政策方向。文化科技發展聯盟召集人施振榮在座談會中表示，聯盟作為跨域交流平台，帶領內容業者、系統整合廠商及設備應用業者一起集思廣益，重點鎖定市場與環境兩大議題。此外，聯盟已決定成立內容種子基金，改變過去思維，不再投資公司，而是投資內容製作物，引導市場朝向製作人的市場導向新思維，並對沉浸體驗的場域進行市場性的利用規劃，以建設新的科技與文化場域。與會的智崴全球總經理何珮琪指出，飛行劇場是五感的沉浸式體驗，最重要的是布建通路並發展獨有內容，未來所有內容都可以透過這個通路來加值到世界去；豪華朗機工創辦人張耿華指出，未來沉浸式經濟應該是目標導向，用目標來整合相關業者。台灣顯示器產業聯合總會秘書長張上文指出，軟硬結合是未來必然的趨勢，尤其是智慧娛樂將與文化內容密切相關；友達光電副總陳弘祥指出，若有平台好讓大家可以媒合，在硬體、軟體及內容應用方面彼此都很願意共同參與。資策會教研所副所長兼文化科技發展聯盟執行長黃宛華表示，文化內容產業與科技產業很需要對話與溝通，聯盟可以扮演平台角色協助產業間彼此跨域合作，未來會針對目標市場，推動合作投資及分潤機制，以小聯盟的形式推動製作委員會新創事業的開發，在文化創意4.0趨勢下，從市場的需求出發，協助建立商業模式，以推動台灣文化創意體驗新經濟。文化科技發展聯盟施振榮召集人最後表示，聯盟及種子基金可以來擔任示範性場域的構築，但這需要科技業者願意建立場域以作為與文化藝術業者的對話場所，或政府願意支持文化科技業者整合場域。聯盟也可以協助規劃推動，這方面未來文化部會釋放更多空間出來，希望大家一起合作。聯盟也將集結本次座談會中的產業建言，提交政府相關部會作為政策建議，作為政府後續推動的參考。圖說：文化科技發展聯盟於10月2日舉辦「文化內容與顯示科技策略座談會」，邀集顯示科技、文化內容、文化科技等產業代表，希望能在文化科技體驗經濟趨勢下，掌握台灣的市場機會，並促進跨界投資合作；圖為貴賓合影，左起為：資策會教研所副所長兼聯盟執行長黃宛華、台新藝術基金會董事長兼聯盟指導委員鄭家鐘、聯盟召集人施振榮、國藝會董事長兼聯盟指導委員林曼麗、法藍瓷總裁兼聯盟副召集人陳立恆。【新聞聯絡人】資策會教研所鍾瑞蘋副主任Tel: (02) 6631-6626juiping@iii.org.tw資策會企推處顏瑄組長Tel: (02) 6631-8635joyyen@iii.org.tw 沈盈吟Tel: (02) 6631-8643yingshen@iii.org.tw\n"
     ]
    },
    {
     "name": "stdout",
     "output_type": "stream",
     "text": [
      "米塔颱風來襲，資策會各區上課狀態，將依據該區人事行政局公告決定；台北地區依台北市政府公告，若停止上班，資策會則停止上課；桃園中壢、台中、台南、高雄則依該區公告，並於上班日另行通知補課時間\n"
     ]
    }
   ],
   "source": [
    "for index, link in enumerate(list_news):\n",
    "    res = requests.get(link)\n",
    "    soup_link = BeautifulSoup(res.text, \"lxml\")\n",
    "    print(soup_link.select('article div.entry-content')[0].get_text())"
   ]
  },
  {
   "cell_type": "code",
   "execution_count": null,
   "metadata": {},
   "outputs": [],
   "source": []
  }
 ],
 "metadata": {
  "kernelspec": {
   "display_name": "Python 3",
   "language": "python",
   "name": "python3"
  },
  "language_info": {
   "codemirror_mode": {
    "name": "ipython",
    "version": 3
   },
   "file_extension": ".py",
   "mimetype": "text/x-python",
   "name": "python",
   "nbconvert_exporter": "python",
   "pygments_lexer": "ipython3",
   "version": "3.7.7"
  }
 },
 "nbformat": 4,
 "nbformat_minor": 4
}
