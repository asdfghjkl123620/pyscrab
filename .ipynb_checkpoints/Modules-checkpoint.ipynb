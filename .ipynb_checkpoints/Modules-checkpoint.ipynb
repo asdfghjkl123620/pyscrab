{
 "cells": [
  {
   "cell_type": "code",
   "execution_count": 4,
   "metadata": {},
   "outputs": [
    {
     "name": "stdout",
     "output_type": "stream",
     "text": [
      "<a href=\"/bbs/\" id=\"logo\">批踢踢實業坊</a>\n"
     ]
    }
   ],
   "source": [
    "import requests as rq\n",
    "from bs4 import BeautifulSoup\n",
    "# PTT NBA 板\n",
    "url = \"https://www.ptt.cc/bbs/NBA/index.html\"\n",
    "# 用 requests 的 get 方法把網頁抓下來\n",
    "response = rq.get(url)\n",
    "# text 屬性就是 html 檔案\n",
    "html_doc = response.text\n",
    "# 指定 lxml 作為解析器\n",
    "soup = BeautifulSoup(response.text, \"lxml\")\n",
    "# 第一個 <a></a>\n",
    "print(soup.find(\"a\"))"
   ]
  },
  {
   "cell_type": "code",
   "execution_count": 5,
   "metadata": {},
   "outputs": [
    {
     "name": "stdout",
     "output_type": "stream",
     "text": [
      "[<a href=\"/bbs/\" id=\"logo\">批踢踢實業坊</a>, <a class=\"board\" href=\"/bbs/NBA/index.html\"><span class=\"board-label\">看板 </span>NBA</a>, <a class=\"right small\" href=\"/about.html\">關於我們</a>, <a class=\"right small\" href=\"/contact.html\">聯絡資訊</a>, <a class=\"btn selected\" href=\"/bbs/NBA/index.html\">看板</a>, <a class=\"btn\" href=\"/man/NBA/index.html\">精華區</a>, <a class=\"btn wide\" href=\"/bbs/NBA/index1.html\">最舊</a>, <a class=\"btn wide\" href=\"/bbs/NBA/index6501.html\">‹ 上頁</a>, <a class=\"btn wide disabled\">下頁 ›</a>, <a class=\"btn wide\" href=\"/bbs/NBA/index.html\">最新</a>, <a href=\"/bbs/NBA/M.1595313583.A.5F8.html\">[新聞] 支持巴特勒 超過30名球員提球衣不印名字</a>, <a href=\"/bbs/NBA/search?q=thread%3A%5B%E6%96%B0%E8%81%9E%5D+%E6%94%AF%E6%8C%81%E5%B7%B4%E7%89%B9%E5%8B%92+%E8%B6%85%E9%81%8E30%E5%90%8D%E7%90%83%E5%93%A1%E6%8F%90%E7%90%83%E8%A1%A3%E4%B8%8D%E5%8D%B0%E5%90%8D%E5%AD%97\">搜尋同標題文章</a>, <a href=\"/bbs/NBA/search?q=author%3As106667\">搜尋看板內 s106667 的文章</a>, <a href=\"/bbs/NBA/M.1595318914.A.5F9.html\">[花邊] 駁復賽吃住條件差 亞當斯:我們可是住渡假村</a>, <a href=\"/bbs/NBA/search?q=thread%3A%5B%E8%8A%B1%E9%82%8A%5D+%E9%A7%81%E5%BE%A9%E8%B3%BD%E5%90%83%E4%BD%8F%E6%A2%9D%E4%BB%B6%E5%B7%AE+%E4%BA%9E%E7%95%B6%E6%96%AF%3A%E6%88%91%E5%80%91%E5%8F%AF%E6%98%AF%E4%BD%8F%E6%B8%A1%E5%81%87%E6%9D%91\">搜尋同標題文章</a>, <a href=\"/bbs/NBA/search?q=author%3Athnlkj0665\">搜尋看板內 thnlkj0665 的文章</a>, <a href=\"/bbs/NBA/M.1595319013.A.E92.html\">[新聞] LBJ:沒有一天不想kobe</a>, <a href=\"/bbs/NBA/search?q=thread%3A%5B%E6%96%B0%E8%81%9E%5D+LBJ%3A%E6%B2%92%E6%9C%89%E4%B8%80%E5%A4%A9%E4%B8%8D%E6%83%B3kobe\">搜尋同標題文章</a>, <a href=\"/bbs/NBA/search?q=author%3Akidofking\">搜尋看板內 kidofking 的文章</a>, <a href=\"/bbs/NBA/M.1595328758.A.141.html\">[情報] 復賽熱身混戰賽程(台灣時間)</a>, <a href=\"/bbs/NBA/search?q=thread%3A%5B%E6%83%85%E5%A0%B1%5D+%E5%BE%A9%E8%B3%BD%E7%86%B1%E8%BA%AB%E6%B7%B7%E6%88%B0%E8%B3%BD%E7%A8%8B%28%E5%8F%B0%E7%81%A3%E6%99%82%E9%96%93%29\">搜尋同標題文章</a>, <a href=\"/bbs/NBA/search?q=author%3Akaikai1112\">搜尋看板內 kaikai1112 的文章</a>, <a href=\"/bbs/NBA/M.1595330647.A.72A.html\">[新聞] 復賽種子賽賽程(台灣時間)</a>, <a href=\"/bbs/NBA/search?q=thread%3A%5B%E6%96%B0%E8%81%9E%5D+%E5%BE%A9%E8%B3%BD%E7%A8%AE%E5%AD%90%E8%B3%BD%E8%B3%BD%E7%A8%8B%28%E5%8F%B0%E7%81%A3%E6%99%82%E9%96%93%29\">搜尋同標題文章</a>, <a href=\"/bbs/NBA/search?q=author%3Akaikai1112\">搜尋看板內 kaikai1112 的文章</a>, <a href=\"/bbs/NBA/M.1595331822.A.562.html\">[情報] SEASON Schedule 賽程 July 19–20</a>, <a href=\"/bbs/NBA/search?q=thread%3A%5B%E6%83%85%E5%A0%B1%5D+SEASON+Schedule+%E8%B3%BD%E7%A8%8B+July+19%E2%80%9320\">搜尋同標題文章</a>, <a href=\"/bbs/NBA/search?q=author%3AAcetoxy\">搜尋看板內 Acetoxy 的文章</a>, <a href=\"/bbs/NBA/M.1595338367.A.15B.html\">[新聞] 染疫後回歸訓練 巫師布萊恩自認狀態不錯</a>, <a href=\"/bbs/NBA/search?q=thread%3A%5B%E6%96%B0%E8%81%9E%5D+%E6%9F%93%E7%96%AB%E5%BE%8C%E5%9B%9E%E6%AD%B8%E8%A8%93%E7%B7%B4+%E5%B7%AB%E5%B8%AB%E5%B8%83%E8%90%8A%E6%81%A9%E8%87%AA%E8%AA%8D%E7%8B%80%E6%85%8B%E4%B8%8D%E9%8C%AF\">搜尋同標題文章</a>, <a href=\"/bbs/NBA/search?q=author%3Asampsonlu919\">搜尋看板內 sampsonlu919 的文章</a>, <a href=\"/bbs/NBA/M.1595343473.A.4F2.html\">[新聞]球評讚現役最有天賦 隊友期待唐西奇季後</a>, <a href=\"/bbs/NBA/search?q=thread%3A%5B%E6%96%B0%E8%81%9E%5D%E7%90%83%E8%A9%95%E8%AE%9A%E7%8F%BE%E5%BD%B9%E6%9C%80%E6%9C%89%E5%A4%A9%E8%B3%A6+%E9%9A%8A%E5%8F%8B%E6%9C%9F%E5%BE%85%E5%94%90%E8%A5%BF%E5%A5%87%E5%AD%A3%E5%BE%8C\">搜尋同標題文章</a>, <a href=\"/bbs/NBA/search?q=author%3Asodistrues\">搜尋看板內 sodistrues 的文章</a>, <a href=\"/bbs/NBA/M.1595346733.A.686.html\">[情報] 老鷹隊 公布2020-21年賽季新球衣</a>, <a href=\"/bbs/NBA/search?q=thread%3A%5B%E6%83%85%E5%A0%B1%5D+%E8%80%81%E9%B7%B9%E9%9A%8A+%E5%85%AC%E5%B8%832020-21%E5%B9%B4%E8%B3%BD%E5%AD%A3%E6%96%B0%E7%90%83%E8%A1%A3\">搜尋同標題文章</a>, <a href=\"/bbs/NBA/search?q=author%3Athnlkj0665\">搜尋看板內 thnlkj0665 的文章</a>, <a href=\"/bbs/NBA/M.1595347433.A.BE4.html\">[情報] 緯來 07/23~07/26 NBA復賽熱身賽轉播表</a>, <a href=\"/bbs/NBA/search?q=thread%3A%5B%E6%83%85%E5%A0%B1%5D+%E7%B7%AF%E4%BE%86+07%2F23~07%2F26+NBA%E5%BE%A9%E8%B3%BD%E7%86%B1%E8%BA%AB%E8%B3%BD%E8%BD%89%E6%92%AD%E8%A1%A8\">搜尋同標題文章</a>, <a href=\"/bbs/NBA/search?q=author%3Ashanyaochung\">搜尋看板內 shanyaochung 的文章</a>, <a href=\"/bbs/NBA/M.1595347933.A.CBE.html\">[情報] Popovich發表對COVID-19的看法</a>, <a href=\"/bbs/NBA/search?q=thread%3A%5B%E6%83%85%E5%A0%B1%5D+Popovich%E7%99%BC%E8%A1%A8%E5%B0%8DCOVID-19%E7%9A%84%E7%9C%8B%E6%B3%95\">搜尋同標題文章</a>, <a href=\"/bbs/NBA/search?q=author%3AChenWay\">搜尋看板內 ChenWay 的文章</a>, <a href=\"/bbs/NBA/M.1595357768.A.9DF.html\">[情報] Winslow賽季報銷</a>, <a href=\"/bbs/NBA/search?q=thread%3A%5B%E6%83%85%E5%A0%B1%5D+Winslow%E8%B3%BD%E5%AD%A3%E5%A0%B1%E9%8A%B7\">搜尋同標題文章</a>, <a href=\"/bbs/NBA/search?q=author%3Amelove1515\">搜尋看板內 melove1515 的文章</a>, <a href=\"/bbs/NBA/M.1595378979.A.9AA.html\">[情報] Marvin Bagley 賽季報銷</a>, <a href=\"/bbs/NBA/search?q=thread%3A%5B%E6%83%85%E5%A0%B1%5D+Marvin+Bagley+%E8%B3%BD%E5%AD%A3%E5%A0%B1%E9%8A%B7\">搜尋同標題文章</a>, <a href=\"/bbs/NBA/search?q=author%3Awilly911006\">搜尋看板內 willy911006 的文章</a>, <a href=\"/bbs/NBA/M.1595380995.A.06E.html\">[情報] KG跟其他投資人有興趣競標灰狼</a>, <a href=\"/bbs/NBA/search?q=thread%3A%5B%E6%83%85%E5%A0%B1%5D+KG%E8%B7%9F%E5%85%B6%E4%BB%96%E6%8A%95%E8%B3%87%E4%BA%BA%E6%9C%89%E8%88%88%E8%B6%A3%E7%AB%B6%E6%A8%99%E7%81%B0%E7%8B%BC\">搜尋同標題文章</a>, <a href=\"/bbs/NBA/search?q=author%3Apneumo\">搜尋看板內 pneumo 的文章</a>, <a href=\"/bbs/NBA/M.1595382334.A.A0B.html\">[情報] Beverley離開奧蘭多</a>, <a href=\"/bbs/NBA/search?q=thread%3A%5B%E6%83%85%E5%A0%B1%5D+Beverley%E9%9B%A2%E9%96%8B%E5%A5%A7%E8%98%AD%E5%A4%9A\">搜尋同標題文章</a>, <a href=\"/bbs/NBA/search?q=author%3Ajackal44748\">搜尋看板內 jackal44748 的文章</a>, <a href=\"/bbs/NBA/M.1595382462.A.88F.html\">Re: [情報] KG跟其他投資人有興趣競標灰狼</a>, <a href=\"/bbs/NBA/search?q=thread%3A%5B%E6%83%85%E5%A0%B1%5D+KG%E8%B7%9F%E5%85%B6%E4%BB%96%E6%8A%95%E8%B3%87%E4%BA%BA%E6%9C%89%E8%88%88%E8%B6%A3%E7%AB%B6%E6%A8%99%E7%81%B0%E7%8B%BC\">搜尋同標題文章</a>, <a href=\"/bbs/NBA/search?q=author%3ALeaflock\">搜尋看板內 Leaflock 的文章</a>, <a href=\"/bbs/NBA/M.1558698194.A.1DC.html\">[公告] 板規v6.8</a>, <a href=\"/bbs/NBA/search?q=thread%3A%5B%E5%85%AC%E5%91%8A%5D+%E6%9D%BF%E8%A6%8Fv6.8\">搜尋同標題文章</a>, <a href=\"/bbs/NBA/search?q=author%3AVedan\">搜尋看板內 Vedan 的文章</a>, <a href=\"/bbs/NBA/M.1571971445.A.8A8.html\">[公告] 版主上任相關事項 </a>, <a href=\"/bbs/NBA/search?q=thread%3A%5B%E5%85%AC%E5%91%8A%5D+%E7%89%88%E4%B8%BB%E4%B8%8A%E4%BB%BB%E7%9B%B8%E9%97%9C%E4%BA%8B%E9%A0%85+\">搜尋同標題文章</a>, <a href=\"/bbs/NBA/search?q=author%3Aqazwsx879345\">搜尋看板內 qazwsx879345 的文章</a>, <a href=\"/bbs/NBA/M.1583083184.A.C4D.html\">[情報] SEASON Schedule 賽程 March 19–20</a>, <a href=\"/bbs/NBA/search?q=thread%3A%5B%E6%83%85%E5%A0%B1%5D+SEASON+Schedule+%E8%B3%BD%E7%A8%8B+March+19%E2%80%9320\">搜尋同標題文章</a>, <a href=\"/bbs/NBA/search?q=author%3AAcetoxy\">搜尋看板內 Acetoxy 的文章</a>, <a href=\"/bbs/NBA/M.1583725468.A.281.html\">[公告] 第一次被退文，可在三天後刪除退文</a>, <a href=\"/bbs/NBA/search?q=thread%3A%5B%E5%85%AC%E5%91%8A%5D+%E7%AC%AC%E4%B8%80%E6%AC%A1%E8%A2%AB%E9%80%80%E6%96%87%EF%BC%8C%E5%8F%AF%E5%9C%A8%E4%B8%89%E5%A4%A9%E5%BE%8C%E5%88%AA%E9%99%A4%E9%80%80%E6%96%87\">搜尋同標題文章</a>, <a href=\"/bbs/NBA/search?q=author%3AVedan\">搜尋看板內 Vedan 的文章</a>, <a href=\"/bbs/NBA/M.1585848482.A.494.html\">[公告] 板務說明 (發錢)</a>, <a href=\"/bbs/NBA/search?q=thread%3A%5B%E5%85%AC%E5%91%8A%5D+%E6%9D%BF%E5%8B%99%E8%AA%AA%E6%98%8E+%28%E7%99%BC%E9%8C%A2%29\">搜尋同標題文章</a>, <a href=\"/bbs/NBA/search?q=author%3AVedan\">搜尋看板內 Vedan 的文章</a>]\n",
      "--------\n"
     ]
    }
   ],
   "source": [
    "# 全部 <a></a>，此時回傳 list\n",
    "print(soup.find_all(\"a\"))\n",
    "print(\"--------\")"
   ]
  },
  {
   "cell_type": "code",
   "execution_count": 6,
   "metadata": {},
   "outputs": [
    {
     "name": "stdout",
     "output_type": "stream",
     "text": [
      "<a class=\"right small\" href=\"/about.html\">關於我們</a>\n"
     ]
    }
   ],
   "source": [
    "print(soup.find_all(\"a\")[2])"
   ]
  },
  {
   "cell_type": "code",
   "execution_count": null,
   "metadata": {},
   "outputs": [],
   "source": []
  }
 ],
 "metadata": {
  "kernelspec": {
   "display_name": "Python 3",
   "language": "python",
   "name": "python3"
  },
  "language_info": {
   "codemirror_mode": {
    "name": "ipython",
    "version": 3
   },
   "file_extension": ".py",
   "mimetype": "text/x-python",
   "name": "python",
   "nbconvert_exporter": "python",
   "pygments_lexer": "ipython3",
   "version": "3.7.7"
  }
 },
 "nbformat": 4,
 "nbformat_minor": 4
}
